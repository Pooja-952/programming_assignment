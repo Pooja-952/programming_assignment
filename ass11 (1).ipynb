{
 "cells": [
  {
   "cell_type": "markdown",
   "id": "00a22d1d-5b11-40ef-afde-48a1a94be26a",
   "metadata": {},
   "source": [
    "### 1. Write a Python program to find words which are greater than given length k?"
   ]
  },
  {
   "cell_type": "code",
   "execution_count": 36,
   "id": "b3b0b734-5105-46f3-9c9c-a9f049c65ea8",
   "metadata": {},
   "outputs": [],
   "source": [
    "def length_of_words(words, k):\n",
    "    return[word for word in words if len(word) > k]"
   ]
  },
  {
   "cell_type": "code",
   "execution_count": 37,
   "id": "3dd5d3d1-d24c-477f-a97d-2c0c105094d1",
   "metadata": {},
   "outputs": [
    {
     "name": "stdout",
     "output_type": "stream",
     "text": [
      "Words greater than length 5: ['banana', 'orange']\n"
     ]
    }
   ],
   "source": [
    "input_words = [\"apple\", \"banana\", \"orange\", \"grape\", \"kiwi\"]\n",
    "k = 5\n",
    "\n",
    "result = length_of_words(input_words, k)\n",
    "print(f\"Words greater than length {k}: {result}\")"
   ]
  },
  {
   "cell_type": "markdown",
   "id": "2decad98-0bd5-45ab-bafc-1137111e1263",
   "metadata": {},
   "source": [
    "### 2. Write a Python program for removing i-th character from a string?"
   ]
  },
  {
   "cell_type": "code",
   "execution_count": 48,
   "id": "01e83985-d02a-4ee2-b733-95ca40a6879f",
   "metadata": {},
   "outputs": [],
   "source": [
    "def removeCharacter(string, i):\n",
    "    \n",
    "    if i < 0 or i >= len(string):\n",
    "        return string\n",
    "        \n",
    "    return string[:i] + string[i + 1:]"
   ]
  },
  {
   "cell_type": "code",
   "execution_count": 51,
   "id": "ba79f317-bda5-4103-9fc8-32ec2432f2e5",
   "metadata": {},
   "outputs": [
    {
     "name": "stdout",
     "output_type": "stream",
     "text": [
      "Hello, orld!\n"
     ]
    }
   ],
   "source": [
    "string = \"Hello, World!\"\n",
    "i = 7\n",
    "print(removeCharacter(string, i))"
   ]
  },
  {
   "cell_type": "markdown",
   "id": "5d76f407-5f18-4aad-9de5-92ce772f2d5e",
   "metadata": {},
   "source": [
    "### 3. Write a Python program to split and join a string?"
   ]
  },
  {
   "cell_type": "code",
   "execution_count": 59,
   "id": "add2a123-31e8-455b-83a5-8b0b6bd1b2e7",
   "metadata": {},
   "outputs": [
    {
     "name": "stdin",
     "output_type": "stream",
     "text": [
      "Enter a string: ineuron Full stack Data Science course\n"
     ]
    },
    {
     "name": "stdout",
     "output_type": "stream",
     "text": [
      "split string: ['ineuron', 'Full', 'stack', 'Data', 'Science', 'course']\n",
      "joing string: ineuron Full stack Data Science course\n"
     ]
    }
   ],
   "source": [
    "def join_and_split():\n",
    "    string = input(\"Enter a string:\")\n",
    "    print(f\"split string: {string.split(' ')}\")\n",
    "    print(f\"joing string: {' '.join(string.split(' '))}\")\n",
    "    \n",
    "join_and_split()    "
   ]
  },
  {
   "cell_type": "markdown",
   "id": "3203e65f-001f-428b-be39-4773fbb14976",
   "metadata": {},
   "source": [
    "### 4. Write a Python to check if a given string is binary string or not?"
   ]
  },
  {
   "cell_type": "code",
   "execution_count": 60,
   "id": "6da2559b-7d1a-4b01-aefa-528d029690f3",
   "metadata": {},
   "outputs": [],
   "source": [
    "def binaryString(string):\n",
    "    for char in string:\n",
    "        if char != '0' and char != '1':\n",
    "            return False\n",
    "        return True"
   ]
  },
  {
   "cell_type": "code",
   "execution_count": 61,
   "id": "b0fe8ebb-47ff-4d76-81c0-d03e79a30f39",
   "metadata": {},
   "outputs": [
    {
     "name": "stdout",
     "output_type": "stream",
     "text": [
      "The string is a binary string.\n"
     ]
    }
   ],
   "source": [
    "input_string = \"101010\"\n",
    "result = binaryString(input_string)\n",
    "\n",
    "if result:\n",
    "    print(\"The string is a binary string.\")\n",
    "else:\n",
    "    print(\"The string is not a binary string.\")"
   ]
  },
  {
   "cell_type": "markdown",
   "id": "dd2dbb9e-aec8-499c-b7f5-526d6b714ca4",
   "metadata": {},
   "source": [
    "### 5. Write a Python program to find uncommon words from two Strings?"
   ]
  },
  {
   "cell_type": "code",
   "execution_count": 7,
   "id": "c28fedbf-93c6-4a5f-aa2f-2542430c6a01",
   "metadata": {},
   "outputs": [],
   "source": [
    "def find_uncommon_words(str1, str2):\n",
    "    word1 = set(str1.split())\n",
    "    word2 = set(str2.split())\n",
    "    \n",
    "    uncommon_word = (word1 - word2) | (word2 - word1)\n",
    "    return list(uncommon_word)    "
   ]
  },
  {
   "cell_type": "code",
   "execution_count": 9,
   "id": "e8583c60-f1f3-460c-87c4-d05533311804",
   "metadata": {},
   "outputs": [
    {
     "name": "stdout",
     "output_type": "stream",
     "text": [
      "Uncommon words: ['Lucknow', 'Delhi']\n"
     ]
    }
   ],
   "source": [
    "string1 = \"I live in Delhi\"\n",
    "string2 = \"I live in Lucknow\"\n",
    "\n",
    "uncommon_words = find_uncommon_words(string1, string2)\n",
    "print(\"Uncommon words:\", uncommon_words)"
   ]
  },
  {
   "cell_type": "markdown",
   "id": "1402ba4b-7e3c-491a-829b-b7d38fba4acf",
   "metadata": {},
   "source": [
    "### 6. Write a Python to find all duplicate characters in string?"
   ]
  },
  {
   "cell_type": "code",
   "execution_count": 17,
   "id": "04631f82-1896-41af-9f91-9dcf3f95b2df",
   "metadata": {},
   "outputs": [],
   "source": [
    "def find_duplicate_characters(string):\n",
    "    duplicate = []\n",
    "    char_count = {}\n",
    "    \n",
    "    for char in string:\n",
    "        if char in char_count:\n",
    "            char_count[char] += 1\n",
    "        else:\n",
    "            char_count[char] = 1\n",
    "    \n",
    "    for char, count in char_count.items():\n",
    "        if count > 1:\n",
    "            duplicate.append(char)\n",
    "            \n",
    "    return duplicate        "
   ]
  },
  {
   "cell_type": "code",
   "execution_count": 18,
   "id": "b5f5f5dc-9700-43dd-9b1c-606a6493a481",
   "metadata": {},
   "outputs": [
    {
     "name": "stdout",
     "output_type": "stream",
     "text": [
      "Duplicate characters: ['l', 'o']\n"
     ]
    }
   ],
   "source": [
    "input_string = \"Hello, World!\"\n",
    "\n",
    "duplicate_chars = find_duplicate_characters(input_string)\n",
    "print(\"Duplicate characters:\", duplicate_chars)"
   ]
  },
  {
   "cell_type": "markdown",
   "id": "34efcf7d-9aa0-4749-940c-7de2adc95f4f",
   "metadata": {},
   "source": [
    "### 7. Write a Python Program to check if a string contains any special character?"
   ]
  },
  {
   "cell_type": "code",
   "execution_count": 38,
   "id": "816f376a-2ab2-451c-a76b-f63c771f7555",
   "metadata": {},
   "outputs": [],
   "source": [
    "def find_special_characters(string):\n",
    "    special_chr = '[!@#$%^&*()_<>?{}|\\:~]'\n",
    "    char_count = []\n",
    "    count = 0\n",
    "    \n",
    "    for char in string:\n",
    "        if char in special_chr:\n",
    "            char_count.append(char)\n",
    "            count += 1\n",
    "    print(f'There are {count} Speical Characters in {string} which are {char_count}')\n",
    "            \n",
    "    return special_chr   \n",
    "  "
   ]
  },
  {
   "cell_type": "code",
   "execution_count": 39,
   "id": "f2fd53ee-d612-4722-95bc-3f75b1783a5b",
   "metadata": {},
   "outputs": [
    {
     "name": "stdout",
     "output_type": "stream",
     "text": [
      "There are 1 Speical Characters in Hello, World! which are ['!']\n",
      "The string contains a special character.\n"
     ]
    }
   ],
   "source": [
    "input_string = \"Hello, World!\"\n",
    "result = find_special_characters(input_string)\n",
    "\n",
    "if result:\n",
    "    print(\"The string contains a special character.\")\n",
    "else:\n",
    "    print(\"The string does not contain any special character.\")"
   ]
  },
  {
   "cell_type": "code",
   "execution_count": null,
   "id": "8bdec84d-a0cf-4cac-8216-86436b669ef6",
   "metadata": {},
   "outputs": [],
   "source": []
  }
 ],
 "metadata": {
  "kernelspec": {
   "display_name": "Python 3 (ipykernel)",
   "language": "python",
   "name": "python3"
  },
  "language_info": {
   "codemirror_mode": {
    "name": "ipython",
    "version": 3
   },
   "file_extension": ".py",
   "mimetype": "text/x-python",
   "name": "python",
   "nbconvert_exporter": "python",
   "pygments_lexer": "ipython3",
   "version": "3.10.6"
  }
 },
 "nbformat": 4,
 "nbformat_minor": 5
}
