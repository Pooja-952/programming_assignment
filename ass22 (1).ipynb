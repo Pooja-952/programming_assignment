{
 "cells": [
  {
   "cell_type": "markdown",
   "id": "de0885bb-164b-4f85-a160-5e399acb07e0",
   "metadata": {},
   "source": [
    "### Question1 Create a function that takes three parameters where:\n",
    "\n",
    "x is the start of the range (inclusive).\n",
    "\n",
    "y is the end of the range (inclusive).\n",
    "\n",
    "n is the divisor to be checked against.\n",
    "\n",
    "Return an ordered list with numbers in the range that are divisible by the third parameter n. Return an empty list if there are no numbers that are divisible by n."
   ]
  },
  {
   "cell_type": "code",
   "execution_count": 8,
   "id": "71eb1cf9-6633-49ca-bf85-1454d990c501",
   "metadata": {},
   "outputs": [
    {
     "name": "stdout",
     "output_type": "stream",
     "text": [
      "Output: ➞ [3, 6, 9]\n",
      "Output: ➞ [8]\n",
      "Output: ➞ []\n"
     ]
    }
   ],
   "source": [
    "def list_operation(start, end, n):\n",
    "    out_list = []\n",
    "    \n",
    "    for i in range(start, end + 1):\n",
    "        if i % n == 0:\n",
    "            out_list.append(i)\n",
    "    print(f'Output: ➞ {out_list}')\n",
    "\n",
    "list_operation(1, 10, 3)\n",
    "list_operation(7, 9, 2)\n",
    "list_operation(15, 20, 7)        "
   ]
  },
  {
   "cell_type": "markdown",
   "id": "0f0221c6-5944-4134-84ec-641b02263fad",
   "metadata": {},
   "source": [
    "### Question2 Create a function that takes in two lists and returns True if the second list follows the first list by one element, and False otherwise. In other words, determine if the second list is the first list shifted to the right by 1."
   ]
  },
  {
   "cell_type": "code",
   "execution_count": 1,
   "id": "55adbf97-a83c-4a3a-9997-4b0764023f8f",
   "metadata": {},
   "outputs": [
    {
     "name": "stdout",
     "output_type": "stream",
     "text": [
      "([1, 2], [5, 1]) ➞ True\n",
      "([1, 2], [5, 5]) ➞ False\n",
      "([1, 2, 3, 4, 5], [0, 1, 2, 3, 4]) ➞ True\n",
      "([1, 2, 3, 4, 5], [5, 5, 1, 2, 3]) ➞ False\n"
     ]
    }
   ],
   "source": [
    "def compareList(list1, list2):\n",
    "    if len(list1) == len(list1) and len(list1) >= 2 and len(list1) >= 2:\n",
    "        if(list1[:-1] == list2[1:]):\n",
    "            print(f'{list1, list2} ➞ {True}')\n",
    "        else:\n",
    "            print(f'{list1, list2} ➞ {False}')\n",
    "            \n",
    "compareList([1, 2], [5, 1])\n",
    "compareList([1, 2], [5, 5])\n",
    "compareList([1, 2, 3, 4, 5], [0, 1, 2, 3, 4])\n",
    "compareList([1, 2, 3, 4, 5], [5, 5, 1, 2, 3])"
   ]
  },
  {
   "cell_type": "markdown",
   "id": "37577196-48ea-4d5c-9718-e4b7e90f3018",
   "metadata": {},
   "source": [
    "### Question3 A group of friends have decided to start a secret society. The name will be the first letter of each of their names, sorted in alphabetical order. Create a function that takes in a list of names and returns the name of the secret society."
   ]
  },
  {
   "cell_type": "code",
   "execution_count": 3,
   "id": "c37150d3-127a-4383-be3d-28f0a547cead",
   "metadata": {},
   "outputs": [
    {
     "name": "stdout",
     "output_type": "stream",
     "text": [
      "['Adam', 'Sarah', 'Malcolm'] ➞ AMS\n",
      "['Harry', 'Newt', 'Luna', 'Cho'] ➞ CHLN\n",
      "['Phoebe', 'Chandler', 'Rachel', 'Ross', 'Monica', 'Joey'] ➞ CJMPRR\n"
     ]
    }
   ],
   "source": [
    "def society_name(list):\n",
    "    out_list = []\n",
    "    for i in list:\n",
    "        out_list.append(i[0])\n",
    "    output = ''.join(sorted(out_list))\n",
    "    print(f'{list} ➞ {output}')\n",
    "\n",
    "society_name([\"Adam\", \"Sarah\", \"Malcolm\"])\n",
    "society_name([\"Harry\", \"Newt\", \"Luna\", \"Cho\"])\n",
    "society_name([\"Phoebe\", \"Chandler\", \"Rachel\", \"Ross\", \"Monica\", \"Joey\"])"
   ]
  },
  {
   "cell_type": "markdown",
   "id": "0ab697f0-4bde-443a-909d-5ce78e5c60f3",
   "metadata": {},
   "source": [
    "### Question4. An isogram is a word that has no duplicate letters. Create a function that takes a string and returns either True or False depending on whether or not it&#39;s an &quot;isogram&quot;."
   ]
  },
  {
   "cell_type": "code",
   "execution_count": 4,
   "id": "cbd64e82-59a5-4318-85cd-d81440146e20",
   "metadata": {},
   "outputs": [
    {
     "name": "stdout",
     "output_type": "stream",
     "text": [
      "Algorism ➞ True\n",
      "PasSword ➞ False\n",
      "Consecutive ➞ False\n"
     ]
    }
   ],
   "source": [
    "def is_isogram(in_string):\n",
    "    lower_in_string = in_string.lower()\n",
    "    if len(lower_in_string) == len(set(lower_in_string)):\n",
    "        print(f'{in_string} ➞ {True}')\n",
    "    else:\n",
    "        print(f'{in_string} ➞ {False}')\n",
    "    \n",
    "is_isogram(\"Algorism\")\n",
    "is_isogram(\"PasSword\")\n",
    "is_isogram(\"Consecutive\")"
   ]
  },
  {
   "cell_type": "markdown",
   "id": "06ff8408-100a-4795-b44b-9761ff276e06",
   "metadata": {},
   "source": [
    "### Question5 Create a function that takes a string and returns True or False, depending on whether the characters are in order or not."
   ]
  },
  {
   "cell_type": "code",
   "execution_count": 6,
   "id": "9773e1c0-d6dc-44ce-9c1b-5dca4e0ca4cf",
   "metadata": {},
   "outputs": [
    {
     "name": "stdout",
     "output_type": "stream",
     "text": [
      "abc ➞ True\n",
      "edabit ➞ False\n",
      "123 ➞ True\n",
      "xyzz ➞ True\n"
     ]
    }
   ],
   "source": [
    "def in_order(string):\n",
    "    string_sorted = ''.join(sorted(string))\n",
    "    if string == string_sorted:\n",
    "        print(f'{string} ➞ {True}')\n",
    "    else:\n",
    "        print(f'{string} ➞ {False}')\n",
    "\n",
    "in_order(\"abc\")\n",
    "in_order(\"edabit\")\n",
    "in_order(\"123\")\n",
    "in_order(\"xyzz\")"
   ]
  },
  {
   "cell_type": "code",
   "execution_count": null,
   "id": "7dc792ee-2d33-4119-b532-a56f32694567",
   "metadata": {},
   "outputs": [],
   "source": []
  }
 ],
 "metadata": {
  "kernelspec": {
   "display_name": "Python 3 (ipykernel)",
   "language": "python",
   "name": "python3"
  },
  "language_info": {
   "codemirror_mode": {
    "name": "ipython",
    "version": 3
   },
   "file_extension": ".py",
   "mimetype": "text/x-python",
   "name": "python",
   "nbconvert_exporter": "python",
   "pygments_lexer": "ipython3",
   "version": "3.10.6"
  }
 },
 "nbformat": 4,
 "nbformat_minor": 5
}
