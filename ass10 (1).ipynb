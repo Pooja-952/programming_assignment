{
 "cells": [
  {
   "cell_type": "markdown",
   "id": "7ccbe37c-7ee7-4ab3-9811-2998e8c048a4",
   "metadata": {},
   "source": [
    "### 1. Write a Python program to find sum of elements in list?"
   ]
  },
  {
   "cell_type": "code",
   "execution_count": 1,
   "id": "dd25d648-64d4-4e3b-a042-4ed7f03f28c2",
   "metadata": {},
   "outputs": [],
   "source": [
    "def sumInList(list):\n",
    "    sum = 0\n",
    "    \n",
    "    for num in list:\n",
    "        sum += num\n",
    "        \n",
    "    return sum    "
   ]
  },
  {
   "cell_type": "code",
   "execution_count": 3,
   "id": "a7effa57-d678-4f8b-9cfa-918563e219f4",
   "metadata": {},
   "outputs": [
    {
     "name": "stdout",
     "output_type": "stream",
     "text": [
      "The sum of the elements in the list is: 15\n"
     ]
    }
   ],
   "source": [
    "numbers = [1, 2, 3, 4, 5]\n",
    "result = sumInList(numbers)\n",
    "print(\"The sum of the elements in the list is:\", result)"
   ]
  },
  {
   "cell_type": "markdown",
   "id": "d81ece46-9796-4944-a72b-6971996be47b",
   "metadata": {},
   "source": [
    "### 2. Write a Python program to Multiply all numbers in the list?"
   ]
  },
  {
   "cell_type": "code",
   "execution_count": 7,
   "id": "0f62b0b8-8ce6-4880-b00e-add746199c71",
   "metadata": {},
   "outputs": [],
   "source": [
    "def multiplyInList(list):\n",
    "    product = 1\n",
    "    \n",
    "    for num in list:\n",
    "        product *= num\n",
    "        \n",
    "    return product    "
   ]
  },
  {
   "cell_type": "code",
   "execution_count": 8,
   "id": "7e700041-68df-4b01-b819-c5e7dfcd634a",
   "metadata": {},
   "outputs": [
    {
     "name": "stdout",
     "output_type": "stream",
     "text": [
      "The product of the elements in the list is: 120\n"
     ]
    }
   ],
   "source": [
    "numbers = [1, 2, 3, 4, 5]\n",
    "result = multiplyInList(numbers)\n",
    "print(\"The product of the elements in the list is:\", result)"
   ]
  },
  {
   "cell_type": "markdown",
   "id": "3b5d88f9-4482-4936-ade3-33a166946c4d",
   "metadata": {},
   "source": [
    "### 3. Write a Python program to find smallest number in a list?"
   ]
  },
  {
   "cell_type": "code",
   "execution_count": 10,
   "id": "22589985-7784-4f50-8578-0acaa8287724",
   "metadata": {},
   "outputs": [],
   "source": [
    "def smallestInList(list):\n",
    "    if len(list) == 0:\n",
    "        print(\"The list is empty:\")\n",
    "        return None\n",
    "    else:\n",
    "        smallest = list[0]\n",
    "        for num in list:\n",
    "            if num < smallest:\n",
    "                smallest = num\n",
    "                \n",
    "        return smallest"
   ]
  },
  {
   "cell_type": "code",
   "execution_count": 11,
   "id": "1c9545b5-95ac-4b35-8dfe-b9ce99dd9f54",
   "metadata": {},
   "outputs": [
    {
     "name": "stdout",
     "output_type": "stream",
     "text": [
      "The smallest number in the list is: 1\n"
     ]
    }
   ],
   "source": [
    "numbers = [5, 2, 9, 1, 7]\n",
    "result = smallestInList(numbers)\n",
    "print(\"The smallest number in the list is:\", result)"
   ]
  },
  {
   "cell_type": "markdown",
   "id": "a724021d-ee6a-48c8-9774-ec2439454b85",
   "metadata": {},
   "source": [
    "### 4. Write a Python program to find largest number in a list?"
   ]
  },
  {
   "cell_type": "code",
   "execution_count": 12,
   "id": "9466abba-61c1-4e89-b8c9-aa71a5ff69e6",
   "metadata": {},
   "outputs": [],
   "source": [
    "def largestNumber(list):\n",
    "    largest = len(list) - 1\n",
    "    \n",
    "    for num in list:\n",
    "        if  num > largest:\n",
    "            largest = num\n",
    "    return largest        "
   ]
  },
  {
   "cell_type": "code",
   "execution_count": 14,
   "id": "4397ece4-17c1-415a-91cc-c1c0b0b15cd9",
   "metadata": {},
   "outputs": [
    {
     "name": "stdout",
     "output_type": "stream",
     "text": [
      "The largest number in the list is: 9\n"
     ]
    }
   ],
   "source": [
    "numbers = [5, 2, 9, 1, 7]\n",
    "result = largestNumber(numbers)\n",
    "print(\"The largest number in the list is:\", result)"
   ]
  },
  {
   "cell_type": "markdown",
   "id": "7d6c1447-2d6d-4dcd-b24d-494ea9c2f87a",
   "metadata": {},
   "source": [
    "### 5. Write a Python program to find second largest number in a list?"
   ]
  },
  {
   "cell_type": "code",
   "execution_count": 18,
   "id": "a7d10948-d840-4966-8067-a47128deb782",
   "metadata": {},
   "outputs": [],
   "source": [
    "def find_second_largest_number(lst):\n",
    "    if len(lst) < 2:\n",
    "        print(\"The list does not have a second largest number.\")\n",
    "        return None\n",
    "    else:\n",
    "        largest = max(lst[0], lst[1])\n",
    "        second_largest = min(lst[0], lst[1])\n",
    "        \n",
    "        for num in lst[2:]:\n",
    "            if num > largest:\n",
    "                second_largest = largest\n",
    "                largest = num\n",
    "            elif num > second_largest and num < largest:\n",
    "                second_largest = num\n",
    "                \n",
    "        return second_largest"
   ]
  },
  {
   "cell_type": "code",
   "execution_count": 19,
   "id": "c42cce6a-a9c1-4bdf-b9d4-8437678b6a87",
   "metadata": {},
   "outputs": [
    {
     "name": "stdout",
     "output_type": "stream",
     "text": [
      "The second largest number in the list is: 7\n"
     ]
    }
   ],
   "source": [
    "numbers = [5, 2, 9, 1, 7]\n",
    "result = find_second_largest_number(numbers)\n",
    "print(\"The second largest number in the list is:\", result)"
   ]
  },
  {
   "cell_type": "markdown",
   "id": "5ff0b24d-f947-4237-bb89-65d9e6e9f9dd",
   "metadata": {},
   "source": [
    "### 6. Write a Python program to find N largest elements from a list?"
   ]
  },
  {
   "cell_type": "code",
   "execution_count": 1,
   "id": "278a2eb9-1cbb-4101-b6db-94317b2f6a62",
   "metadata": {},
   "outputs": [],
   "source": [
    "def find_n_largest(list, n):\n",
    "    if n >= len(list):\n",
    "        return sorted(list, reverse = True)\n",
    "    largest_element = []\n",
    "    \n",
    "    for i in range(n):\n",
    "        max_value = max(list)\n",
    "        largest_element.append(max_value)\n",
    "        list.remove(max_value)\n",
    "        \n",
    "    return largest_element    \n",
    "        "
   ]
  },
  {
   "cell_type": "code",
   "execution_count": 3,
   "id": "f6676d92-c06e-4e7a-bc0d-2c49cab0e912",
   "metadata": {},
   "outputs": [
    {
     "name": "stdout",
     "output_type": "stream",
     "text": [
      "The 3 largest elements from the list [5, 2, 3] are: [15, 9, 7]\n"
     ]
    }
   ],
   "source": [
    "input_list = [5, 9, 2, 15, 7, 3]\n",
    "N_largest = 3\n",
    "\n",
    "result = find_n_largest(input_list, N_largest)\n",
    "print(f\"The {N_largest} largest elements from the list {input_list} are: {result}\")"
   ]
  },
  {
   "cell_type": "markdown",
   "id": "360aaf62-9aaa-4221-9ddf-07ff7758a4b6",
   "metadata": {},
   "source": [
    "### 7. Write a Python program to print even numbers in a list?"
   ]
  },
  {
   "cell_type": "code",
   "execution_count": 6,
   "id": "98df7a48-ec78-4493-a906-c4071a03473b",
   "metadata": {},
   "outputs": [],
   "source": [
    "def evenNumbers(list):\n",
    "    even_numbers = [num for num in list if num % 2 == 0]\n",
    "    print(\"Even numbers in the list:\")\n",
    "    \n",
    "    for number in even_numbers:\n",
    "        print(number)"
   ]
  },
  {
   "cell_type": "code",
   "execution_count": 11,
   "id": "74f8daef-ff8f-4518-a065-a71576aa82f8",
   "metadata": {},
   "outputs": [
    {
     "name": "stdout",
     "output_type": "stream",
     "text": [
      "Even numbers in the list:\n",
      "2\n",
      "6\n",
      "8\n",
      "4\n"
     ]
    }
   ],
   "source": [
    "input_list =[2,5,7,6,8,4,1]\n",
    "evenNumbers(input_list)"
   ]
  },
  {
   "cell_type": "markdown",
   "id": "cf3131fc-cb60-45a1-bb28-a99386e49d70",
   "metadata": {},
   "source": [
    "### 8. Write a Python program to print odd numbers in a List?"
   ]
  },
  {
   "cell_type": "code",
   "execution_count": 13,
   "id": "cabdb314-d3c4-4f4c-a328-ff499fc56402",
   "metadata": {},
   "outputs": [],
   "source": [
    "def odd_numbers(lst):\n",
    "    odd_numbers = [num for num in lst if num % 2 == 1]\n",
    "    print(\"Odd numbers in the list:\")\n",
    "    \n",
    "    for number in odd_numbers:\n",
    "        print(number)"
   ]
  },
  {
   "cell_type": "code",
   "execution_count": 15,
   "id": "75c41a81-d442-498e-aa92-0c71e8b09d15",
   "metadata": {},
   "outputs": [
    {
     "name": "stdout",
     "output_type": "stream",
     "text": [
      "Odd numbers in the list:\n",
      "5\n",
      "7\n",
      "1\n"
     ]
    }
   ],
   "source": [
    "input_list =[2,5,7,6,8,4,1]\n",
    "odd_numbers(input_list)"
   ]
  },
  {
   "cell_type": "markdown",
   "id": "4f2a17a3-3c49-4f78-aa17-93d9d497431b",
   "metadata": {},
   "source": [
    "### 9. Write a Python program to Remove empty List from List?"
   ]
  },
  {
   "cell_type": "code",
   "execution_count": 26,
   "id": "e83a1aab-a1db-4c53-9e6d-fb4559ca0c36",
   "metadata": {},
   "outputs": [
    {
     "name": "stdin",
     "output_type": "stream",
     "text": [
      "Enter all elements of the list:  [1,2,3,4,5,[],6,7,8,9,0]\n"
     ]
    },
    {
     "name": "stdout",
     "output_type": "stream",
     "text": [
      "There is an Empty list in [1, 2, 3, 4, 5, [], 6, 7, 8, 9, 0] at Position 5\n",
      "The List after removing [] is [1, 2, 3, 4, 5, 6, 7, 8, 9, 0]\n"
     ]
    }
   ],
   "source": [
    "def checkEmptyList():\n",
    "    in_list = eval(input('Enter all elements of the list: '))\n",
    "    if [] in in_list:\n",
    "        print(f'There is an Empty list in {in_list} at Position {in_list.index([])}')\n",
    "        in_list.remove([])\n",
    "        print(f'The List after removing [] is {in_list}')\n",
    "    else:\n",
    "        print(f'There is no [] List in the list {in_list}')\n",
    "        \n",
    "checkEmptyList()"
   ]
  },
  {
   "cell_type": "markdown",
   "id": "80853696-cb96-41ef-82d4-f1bf0307df01",
   "metadata": {},
   "source": [
    "### 10. Write a Python program to Cloning or Copying a list?"
   ]
  },
  {
   "cell_type": "code",
   "execution_count": 27,
   "id": "1f9d32a0-a55d-462a-b11c-010280c749a7",
   "metadata": {},
   "outputs": [],
   "source": [
    "def cloning(list):\n",
    "    return list.copy()"
   ]
  },
  {
   "cell_type": "code",
   "execution_count": 29,
   "id": "b3bf0ee1-5f1c-4096-8a49-dcbff91f0508",
   "metadata": {},
   "outputs": [
    {
     "name": "stdout",
     "output_type": "stream",
     "text": [
      "Original List: [1, 2, 3, 4, 5]\n",
      "Cloned List: [1, 2, 3, 4, 5]\n"
     ]
    }
   ],
   "source": [
    "input_list = [1, 2, 3, 4, 5]\n",
    "\n",
    "cloned_list = cloning(input_list)\n",
    "print(f\"Original List: {input_list}\")\n",
    "print(f\"Cloned List: {cloned_list}\")"
   ]
  },
  {
   "cell_type": "markdown",
   "id": "6b3f5c1e-55b0-4bec-9c6b-89c2f0e7f087",
   "metadata": {},
   "source": [
    "### 11. Write a Python program to Count occurrences of an element in a list?"
   ]
  },
  {
   "cell_type": "code",
   "execution_count": 30,
   "id": "eee9765c-f372-4d9b-b838-7fd911ba373e",
   "metadata": {},
   "outputs": [],
   "source": [
    "def repeatedElement(list, element):\n",
    "    return list.count(element)"
   ]
  },
  {
   "cell_type": "code",
   "execution_count": 32,
   "id": "731c68e8-2d28-4e4b-9592-113f7ea006d4",
   "metadata": {},
   "outputs": [
    {
     "name": "stdout",
     "output_type": "stream",
     "text": [
      "The element 2 occurs 4 time(s) in the list.\n"
     ]
    }
   ],
   "source": [
    "input_list = [1, 2, 3, 2, 4, 2, 5, 2]\n",
    "element_to_count = 2\n",
    "\n",
    "occurrences = repeatedElement(input_list, element_to_count)\n",
    "print(f\"The element {element_to_count} occurs {occurrences} time(s) in the list.\")"
   ]
  },
  {
   "cell_type": "code",
   "execution_count": null,
   "id": "5d4b0ecf-3207-475c-80b0-b4759809cc0b",
   "metadata": {},
   "outputs": [],
   "source": []
  }
 ],
 "metadata": {
  "kernelspec": {
   "display_name": "Python 3 (ipykernel)",
   "language": "python",
   "name": "python3"
  },
  "language_info": {
   "codemirror_mode": {
    "name": "ipython",
    "version": 3
   },
   "file_extension": ".py",
   "mimetype": "text/x-python",
   "name": "python",
   "nbconvert_exporter": "python",
   "pygments_lexer": "ipython3",
   "version": "3.10.6"
  }
 },
 "nbformat": 4,
 "nbformat_minor": 5
}
