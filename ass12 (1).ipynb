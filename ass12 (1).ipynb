{
 "cells": [
  {
   "cell_type": "markdown",
   "id": "27bd337e-3feb-4023-9f4a-4e202b177432",
   "metadata": {},
   "source": [
    "### 1. Write a Python program to Extract Unique values dictionary values?"
   ]
  },
  {
   "cell_type": "code",
   "execution_count": 8,
   "id": "30667b8d-0b5f-4b50-a503-895b1eebca27",
   "metadata": {},
   "outputs": [],
   "source": [
    "def find_unique_values(dictionary):\n",
    "    unique_values = set()\n",
    "    for value in dictionary.values():\n",
    "        if isinstance(value, list):\n",
    "            unique_values.update(value)\n",
    "        else:\n",
    "            unique_values.add(value)\n",
    "    return unique_values        "
   ]
  },
  {
   "cell_type": "code",
   "execution_count": 9,
   "id": "e4682ec7-d7aa-4faa-93b6-461ed4303c19",
   "metadata": {},
   "outputs": [
    {
     "name": "stdout",
     "output_type": "stream",
     "text": [
      "{'value4', 'value2', 'value3', 'value7', 'value5', 'value6', 'value1'}\n"
     ]
    }
   ],
   "source": [
    "my_dictionary = {\n",
    "    'key1': 'value1',\n",
    "    'key2': 'value2',\n",
    "    'key3': ['value3', 'value4', 'value3'],\n",
    "    'key4': 'value5',\n",
    "    'key5': ['value6', 'value7']\n",
    "}\n",
    "\n",
    "unique_values = find_unique_values(my_dictionary)\n",
    "print(unique_values)"
   ]
  },
  {
   "cell_type": "markdown",
   "id": "ee88e40e-5a0e-4cad-989d-82c0f8264e82",
   "metadata": {},
   "source": [
    "### 2. Write a Python program to find the sum of all items in a dictionary?"
   ]
  },
  {
   "cell_type": "code",
   "execution_count": 27,
   "id": "7a5e6770-cdc8-4a03-9fd0-abbf9c09137c",
   "metadata": {},
   "outputs": [],
   "source": [
    "def find_items_sum(dictionary):\n",
    "    total_sum = 0\n",
    "    for value in dictionary.values():\n",
    "        if isinstance(value, (int, float)):\n",
    "            total_sum += value\n",
    "        elif isinstance(value, list):\n",
    "            total_sum += sum(value)\n",
    "    return total_sum   "
   ]
  },
  {
   "cell_type": "code",
   "execution_count": 28,
   "id": "44601aee-eb9b-43ab-a992-cadb1ee8a3e1",
   "metadata": {},
   "outputs": [
    {
     "name": "stdout",
     "output_type": "stream",
     "text": [
      "Total sum: 21.5\n"
     ]
    }
   ],
   "source": [
    "my_dictionary = {\n",
    "    'key1': 10,\n",
    "    'key2': 5.5,\n",
    "    'key3': [1, 2, 3],\n",
    "    'key4': 'value',\n",
    "    'key5': {'nested_key': 8}\n",
    "}\n",
    "\n",
    "total = find_items_sum(my_dictionary)\n",
    "print(\"Total sum:\", total)"
   ]
  },
  {
   "cell_type": "markdown",
   "id": "d8eee1f6-9af3-4d0a-9246-e824d35d3db4",
   "metadata": {},
   "source": [
    "### 3. Write a Python program to Merging two Dictionaries?"
   ]
  },
  {
   "cell_type": "code",
   "execution_count": 29,
   "id": "a3d7dd22-c463-48c2-8e83-4542d1603314",
   "metadata": {},
   "outputs": [],
   "source": [
    "def mergeDictionaries(dic1, dic2):\n",
    "    merged_dic = dic1.copy()\n",
    "    merged_dic.update(dic2)\n",
    "    return merged_dic\n",
    "            "
   ]
  },
  {
   "cell_type": "code",
   "execution_count": 33,
   "id": "9fba383a-33fc-4d84-8a65-761cb2817662",
   "metadata": {},
   "outputs": [
    {
     "name": "stdout",
     "output_type": "stream",
     "text": [
      "Merged Dictionary: {'course name': 'full stack data science', 'By': 'ineuron'}\n"
     ]
    }
   ],
   "source": [
    "dict1 = {'course name': 'full stack data science'}\n",
    "dict2 = {'By': 'ineuron'}\n",
    "\n",
    "merged_dict = mergeDictionaries(dict1, dict2)\n",
    "print(\"Merged Dictionary:\", merged_dict)"
   ]
  },
  {
   "cell_type": "markdown",
   "id": "028411ca-7631-4e64-82cd-0a58296bdb4e",
   "metadata": {},
   "source": [
    "### 4. Write a Python program to convert key-values list to flat dictionary?"
   ]
  },
  {
   "cell_type": "code",
   "execution_count": 38,
   "id": "66e9aafe-1f7a-485a-a3ef-e8371a63e301",
   "metadata": {},
   "outputs": [],
   "source": [
    "def convertKeyValues(key_value):\n",
    "    flat_dic = {}\n",
    "    for key, value in key_value:\n",
    "        flat_dic[key] = value\n",
    "    return flat_dic"
   ]
  },
  {
   "cell_type": "code",
   "execution_count": 39,
   "id": "94ca92fa-0e1d-4433-b99d-219d37feb77d",
   "metadata": {},
   "outputs": [
    {
     "name": "stdout",
     "output_type": "stream",
     "text": [
      "Flat Dictionary: {'key1': 1, 'key2': 2, 'key3': 3, 'key4': 4}\n"
     ]
    }
   ],
   "source": [
    "key_value_list = [(\"key1\", 1), (\"key2\", 2), (\"key3\", 3), (\"key4\", 4)]\n",
    "\n",
    "flat_dictionary = convertKeyValues(key_value_list)\n",
    "print(\"Flat Dictionary:\", flat_dictionary)"
   ]
  },
  {
   "cell_type": "markdown",
   "id": "c1042ccd-e64c-4389-bafa-52f142eca8a5",
   "metadata": {},
   "source": [
    "### 5. Write a Python program to insertion at the beginning in OrderedDict?"
   ]
  },
  {
   "cell_type": "code",
   "execution_count": 50,
   "id": "b4202b01-b1a2-4630-b5e8-b68bb649cf58",
   "metadata": {},
   "outputs": [
    {
     "name": "stdout",
     "output_type": "stream",
     "text": [
      "dict_one OrderedDict([('Apple', 'Iphone'), ('Microsoft', 'Windows'), ('Google', 'chrome')])\n",
      "dict_one OrderedDict([('Apple', 'Iphone'), ('Microsoft', 'Windows'), ('Google', 'chrome'), ('Tesla', 'SpaceX')])\n",
      "dict_one OrderedDict([('Tesla', 'SpaceX'), ('Apple', 'Iphone'), ('Microsoft', 'Windows'), ('Google', 'chrome')])\n"
     ]
    }
   ],
   "source": [
    "from collections import OrderedDict\n",
    "dict_one = OrderedDict({'Apple':'Iphone','Microsoft':'Windows','Google':'chrome'})\n",
    "print('dict_one',dict_one)\n",
    "dict_two = {'Tesla':'SpaceX'}\n",
    "dict_one.update(dict_two)\n",
    "print('dict_one',dict_one)\n",
    "dict_one.move_to_end('Tesla',last=False)\n",
    "print('dict_one',dict_one)"
   ]
  },
  {
   "cell_type": "markdown",
   "id": "c54721ad-6df7-4708-8ee5-4ddf4eea951d",
   "metadata": {},
   "source": [
    "### 6. Write a Python program to check order of character in string using OrderedDict()?"
   ]
  },
  {
   "cell_type": "code",
   "execution_count": 56,
   "id": "3a0c5a5d-402e-4525-9fbe-0ef2f395a2d8",
   "metadata": {},
   "outputs": [],
   "source": [
    "from collections import OrderedDict\n",
    "\n",
    "def check_order_of_characters(string):\n",
    "    ordered_dict = OrderedDict()\n",
    "    \n",
    "    for char in string:\n",
    "        if char not in ordered_dict:\n",
    "            ordered_dict[char] = None\n",
    "            \n",
    "    index = 0\n",
    "    for char in ordered_dict:\n",
    "        if index >= len(string):\n",
    "            break\n",
    "            \n",
    "        if char != string[index]:\n",
    "            return False\n",
    "        \n",
    "        index += 1\n",
    "        \n",
    "    return True    \n",
    "            "
   ]
  },
  {
   "cell_type": "code",
   "execution_count": 60,
   "id": "3926de6e-a9b2-456f-b21d-7a9af00911ce",
   "metadata": {},
   "outputs": [
    {
     "name": "stdout",
     "output_type": "stream",
     "text": [
      "The characters in 'Hello' are in order: False\n"
     ]
    }
   ],
   "source": [
    "input_string = \"Hello\"\n",
    "result = check_order_of_characters(input_string)\n",
    "print(f\"The characters in '{input_string}' are in order: {result}\")"
   ]
  },
  {
   "cell_type": "markdown",
   "id": "6d5aa896-5562-4424-bbd6-a1570535a0b4",
   "metadata": {},
   "source": [
    "### 7. Write a Python program to sort Python Dictionaries by Key or Value?"
   ]
  },
  {
   "cell_type": "code",
   "execution_count": 61,
   "id": "3ff3d2aa-ecf0-4cb4-8f91-07737110ab26",
   "metadata": {},
   "outputs": [
    {
     "name": "stdout",
     "output_type": "stream",
     "text": [
      "{'Banana': 60, 'Grape': 13, 'Mango': 100, 'PineApple': 22}\n",
      "{'Grape': 13, 'PineApple': 22, 'Banana': 60, 'Mango': 100}\n"
     ]
    }
   ],
   "source": [
    "d_items = {'Mango':100,'PineApple':22,'Banana':60,'Grape':13}\n",
    "\n",
    "def sort_dict(in_dict,sort_type):\n",
    "    if sort_type == 'key':\n",
    "        print(dict(sorted(in_dict.items(), key=lambda x:x[0], reverse=False)))\n",
    "    else:\n",
    "        print(dict(sorted(in_dict.items(), key=lambda x:x[1], reverse=False)))\n",
    "        \n",
    "sort_dict(d_items,'key')        \n",
    "sort_dict(d_items,'value')"
   ]
  },
  {
   "cell_type": "code",
   "execution_count": null,
   "id": "4c3cb3cc-ebd4-4750-bd77-f0edd5d3a346",
   "metadata": {},
   "outputs": [],
   "source": []
  }
 ],
 "metadata": {
  "kernelspec": {
   "display_name": "Python 3 (ipykernel)",
   "language": "python",
   "name": "python3"
  },
  "language_info": {
   "codemirror_mode": {
    "name": "ipython",
    "version": 3
   },
   "file_extension": ".py",
   "mimetype": "text/x-python",
   "name": "python",
   "nbconvert_exporter": "python",
   "pygments_lexer": "ipython3",
   "version": "3.10.6"
  }
 },
 "nbformat": 4,
 "nbformat_minor": 5
}
