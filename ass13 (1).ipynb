{
 "cells": [
  {
   "cell_type": "markdown",
   "id": "82e9fdba-2403-4cf0-93e1-1e41812a4ba7",
   "metadata": {},
   "source": [
    "#### Question 1:\n",
    "Write a program that calculates and prints the value according to the given formula:\n",
    "\n",
    "Q = Square root of [(2 * C * D)/H]\n",
    "\n",
    "Following are the fixed values of C and H:\n",
    "\n",
    "C is 50. H is 30.\n",
    "\n",
    "D is the variable whose values should be input to your program in a comma-separated\n",
    "sequence."
   ]
  },
  {
   "cell_type": "code",
   "execution_count": 7,
   "id": "b0e49d74-55cf-401a-a39a-22521f669332",
   "metadata": {},
   "outputs": [
    {
     "name": "stdin",
     "output_type": "stream",
     "text": [
      "Enter the valule of input:  100,260,180\n"
     ]
    },
    {
     "name": "stdout",
     "output_type": "stream",
     "text": [
      "Output: 18,29,24\n"
     ]
    }
   ],
   "source": [
    "from math import sqrt\n",
    "\n",
    "def squareRoot():\n",
    "    result = eval(input(\"Enter the valule of input: \"))\n",
    "    count = []\n",
    "    c = 50\n",
    "    h = 30\n",
    "    \n",
    "    for num in result:\n",
    "        Q = str(int(sqrt((2*c*num)/h)))\n",
    "        count.append(Q)\n",
    "        \n",
    "    print(\"Output: {}\".format(','.join(count)))\n",
    "\n",
    "squareRoot()    "
   ]
  },
  {
   "cell_type": "markdown",
   "id": "5bddc60d-4482-4201-94ff-90966e1af1f0",
   "metadata": {},
   "source": [
    "#### Question 2:\n",
    "Write a program which takes 2 digits, X,Y as input and generates a 2-dimensional array. The element value in the i-th row and j-th column of the array should be i*j.\n",
    "\n",
    "Note: i=0,1.., X-1; j=0,1,¡Y-1."
   ]
  },
  {
   "cell_type": "code",
   "execution_count": 8,
   "id": "f621095a-d2ad-4950-bcbe-782e393b0cca",
   "metadata": {},
   "outputs": [
    {
     "name": "stdin",
     "output_type": "stream",
     "text": [
      "Enter the no. of rows:  3\n",
      "Enter the no. of columns:  3\n"
     ]
    },
    {
     "name": "stdout",
     "output_type": "stream",
     "text": [
      "[[0, 0, 0], [0, 1, 2], [0, 2, 4]]\n"
     ]
    }
   ],
   "source": [
    "import array as arr\n",
    "def generateArray():\n",
    "    x = int(input(\"Enter the no. of rows: \"))\n",
    "    y = int(input(\"Enter the no. of columns: \"))\n",
    "    array = []\n",
    "    \n",
    "    for i in range(x):\n",
    "        array.insert(x, [])\n",
    "        for sub_i in range(y):\n",
    "            array[i].append(i*sub_i)\n",
    "    print(array)\n",
    "    \n",
    "generateArray()    "
   ]
  },
  {
   "cell_type": "markdown",
   "id": "ba4c8f2a-7978-4567-8c0b-563f0f8c532c",
   "metadata": {},
   "source": [
    "### Question 3:\n",
    "Write a program that accepts a comma separated sequence of words as input and prints the\n",
    "words in a comma-separated sequence after sorting them alphabetically."
   ]
  },
  {
   "cell_type": "code",
   "execution_count": 10,
   "id": "3f013a74-ab8a-4478-890d-82e174ab3792",
   "metadata": {},
   "outputs": [
    {
     "name": "stdin",
     "output_type": "stream",
     "text": [
      "Enter a string:  stack,course,full,science,data\n"
     ]
    },
    {
     "name": "stdout",
     "output_type": "stream",
     "text": [
      "output: course,data,full,science,stack\n"
     ]
    }
   ],
   "source": [
    "def sortString():\n",
    "    enter = input(\"Enter a string: \")\n",
    "    result = ','.join(sorted(enter.split(',')))\n",
    "    print(f\"output: {result}\")\n",
    "    \n",
    "sortString()    "
   ]
  },
  {
   "cell_type": "markdown",
   "id": "2c9bb3d7-7a6d-436d-a787-58a59f7f4bd3",
   "metadata": {},
   "source": [
    "### Question 4:\n",
    "Write a program that accepts a sequence of whitespace separated words as input and prints\n",
    "the words after removing all duplicate words and sorting them alphanumerically."
   ]
  },
  {
   "cell_type": "code",
   "execution_count": 14,
   "id": "aee81c32-3f5c-4157-8a02-29841701dd5d",
   "metadata": {},
   "outputs": [
    {
     "name": "stdin",
     "output_type": "stream",
     "text": [
      "Enter the Input String:  hello world and practice makes perfect and hello world again\n"
     ]
    },
    {
     "name": "stdout",
     "output_type": "stream",
     "text": [
      "Output: again and hello makes perfect practice world\n"
     ]
    }
   ],
   "source": [
    "def sortAlphaNumerically():\n",
    "    in_string = input(\"Enter the Input String: \")\n",
    "    out_string = ' '.join(sorted(sorted(list(set(in_string.split(\" \"))))))\n",
    "    print(f'Output: {out_string}')\n",
    "    \n",
    "sortAlphaNumerically()"
   ]
  },
  {
   "cell_type": "markdown",
   "id": "4f2fe180-6310-474e-83fa-fe01f0a2ee3a",
   "metadata": {},
   "source": [
    "### Question 5:\n",
    "Write a program that accepts a sentence and calculate the number of letters and digits."
   ]
  },
  {
   "cell_type": "code",
   "execution_count": 16,
   "id": "26221db1-192a-4a16-ad14-9cab78900722",
   "metadata": {},
   "outputs": [],
   "source": [
    "def calculateLetters(sentence):\n",
    "    letters = 0\n",
    "    digits = 0\n",
    "    \n",
    "    for char in sentence:\n",
    "        if char.isalpha():\n",
    "            letters += 1\n",
    "        elif char.isdigit():    \n",
    "            digits += 1\n",
    "    \n",
    "    return letters, digits"
   ]
  },
  {
   "cell_type": "code",
   "execution_count": 17,
   "id": "700cc644-2f1e-44ee-b7de-75cbd54838a6",
   "metadata": {},
   "outputs": [
    {
     "name": "stdin",
     "output_type": "stream",
     "text": [
      "Enter a sentence:  poojayadav.r.2424@gmail.com\n"
     ]
    },
    {
     "name": "stdout",
     "output_type": "stream",
     "text": [
      "Number of letters: 19\n",
      "Number of digits: 4\n"
     ]
    }
   ],
   "source": [
    "input_sentence = input(\"Enter a sentence: \")\n",
    "letter_count, digit_count = calculateLetters(input_sentence)\n",
    "\n",
    "print(\"Number of letters:\", letter_count)\n",
    "print(\"Number of digits:\", digit_count)"
   ]
  },
  {
   "cell_type": "markdown",
   "id": "2674a0bb-30c0-40c7-842e-df2266c32aa3",
   "metadata": {},
   "source": [
    "### Question 6:\n",
    "A website requires the users to input username and password to register. Write a program to check the validity of password input by users."
   ]
  },
  {
   "cell_type": "code",
   "execution_count": 22,
   "id": "ed85b951-e048-4de3-8dd9-1887714a1f38",
   "metadata": {},
   "outputs": [],
   "source": [
    " # Define the password criteria\n",
    "    # At least 8 characters long\n",
    "    # Contains at least one uppercase letter, one lowercase letter, and one digit\n",
    "import string\n",
    "    \n",
    "def passwordValidity(password):\n",
    "    if len(password) < 8:\n",
    "        return False\n",
    "    has_uppercase = False\n",
    "    has_lowercase = False\n",
    "    has_digit = False\n",
    "    has_special_char = False\n",
    "    \n",
    "    for char in password:\n",
    "        if char.isupper():\n",
    "            has_uppercase = True\n",
    "        elif char.islower():\n",
    "            has_lowercase = True\n",
    "        elif char.isdigit():\n",
    "            has_digit = True\n",
    "        elif char in string.punctuation:\n",
    "            has_special_char = True\n",
    "    \n",
    "    if has_uppercase and has_lowercase and has_digit and has_special_char:\n",
    "        return True\n",
    "    else:\n",
    "        return False"
   ]
  },
  {
   "cell_type": "code",
   "execution_count": 23,
   "id": "a03c06fa-c61f-49fb-9232-e800a4969e98",
   "metadata": {},
   "outputs": [
    {
     "name": "stdin",
     "output_type": "stream",
     "text": [
      "Enter a password:  Welcome@123\n"
     ]
    },
    {
     "name": "stdout",
     "output_type": "stream",
     "text": [
      "Password is valid.\n"
     ]
    }
   ],
   "source": [
    "input_password = input(\"Enter a password: \")\n",
    "is_valid = passwordValidity(input_password)\n",
    "\n",
    "if is_valid:\n",
    "    print(\"Password is valid.\")\n",
    "else:\n",
    "    print(\"Password is invalid.\")"
   ]
  },
  {
   "cell_type": "code",
   "execution_count": null,
   "id": "395b8379-f71c-4203-be9b-5503e79ca9fd",
   "metadata": {},
   "outputs": [],
   "source": []
  }
 ],
 "metadata": {
  "kernelspec": {
   "display_name": "Python 3 (ipykernel)",
   "language": "python",
   "name": "python3"
  },
  "language_info": {
   "codemirror_mode": {
    "name": "ipython",
    "version": 3
   },
   "file_extension": ".py",
   "mimetype": "text/x-python",
   "name": "python",
   "nbconvert_exporter": "python",
   "pygments_lexer": "ipython3",
   "version": "3.10.6"
  }
 },
 "nbformat": 4,
 "nbformat_minor": 5
}
