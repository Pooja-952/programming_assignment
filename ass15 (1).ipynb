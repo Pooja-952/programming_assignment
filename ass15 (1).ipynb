{
 "cells": [
  {
   "cell_type": "markdown",
   "id": "bbf6db2c-efca-4116-997b-5554d73e60ed",
   "metadata": {},
   "source": [
    "### 1. Please write a program using generator to print the numbers which can be divisible by 5 and 7 between 0 and n in comma separated form while n is input by console."
   ]
  },
  {
   "cell_type": "code",
   "execution_count": 7,
   "id": "9db00791-6716-45f6-81d2-030f74435efc",
   "metadata": {},
   "outputs": [],
   "source": [
    "class def_generator:\n",
    "    def __init__ (self, n):\n",
    "        self.n = n\n",
    "    \n",
    "    def get_numbers(self):\n",
    "        for i in range(self.n + 1):\n",
    "            if i % 5 == 0 and i % 7 == 0:\n",
    "                yield i\n",
    "                "
   ]
  },
  {
   "cell_type": "code",
   "execution_count": 8,
   "id": "adbd23ca-052f-44b4-87a9-5837e33e0f07",
   "metadata": {},
   "outputs": [
    {
     "name": "stdout",
     "output_type": "stream",
     "text": [
      "0 35 70 "
     ]
    }
   ],
   "source": [
    "output = def_generator(100)\n",
    "for i in output.get_numbers():\n",
    "    print(i, end=' ')"
   ]
  },
  {
   "cell_type": "markdown",
   "id": "4059ac69-1002-4a71-8b01-88168e0551e4",
   "metadata": {},
   "source": [
    "### 2. Please write a program using generator to print the even numbers between 0 and n in comma separated form while n is input by console."
   ]
  },
  {
   "cell_type": "code",
   "execution_count": 14,
   "id": "21fb1ee8-7bb8-4c9f-9c95-50eae26bada6",
   "metadata": {},
   "outputs": [
    {
     "name": "stdout",
     "output_type": "stream",
     "text": [
      "0 2 4 6 8 10 12 14 16 18 20 22 24 26 28 30 32 34 36 38 40 42 44 46 48 50 52 54 56 58 60 62 64 66 68 70 72 74 76 78 80 82 84 86 88 90 92 94 96 98 100 "
     ]
    }
   ],
   "source": [
    "def findEvenNumbers(n):\n",
    "    for i in range(n + 1):\n",
    "        if i % 2 == 0:\n",
    "            yield i\n",
    "            \n",
    "for i in findEvenNumbers(100):\n",
    "    print(i, end=' ')            "
   ]
  },
  {
   "cell_type": "markdown",
   "id": "ccd29bdd-d650-4c58-a83c-d3e0805f207f",
   "metadata": {},
   "source": [
    "### 3. Please write a program using list comprehension to print the Fibonacci Sequence in comma separated form with a given n input by console."
   ]
  },
  {
   "cell_type": "code",
   "execution_count": 15,
   "id": "4b63135c-1cd5-40c6-8a73-017d3de4b8c6",
   "metadata": {},
   "outputs": [
    {
     "name": "stdout",
     "output_type": "stream",
     "text": [
      "[0, 1, 1, 2, 3, 5, 8, 13, 21, 34, 55, 89, 144, 233, 377, 610, 987, 1597, 2584, 4181]\n"
     ]
    }
   ],
   "source": [
    "def fibonacci(num):\n",
    "    if num == 0:\n",
    "        return 0\n",
    "    elif num == 1:\n",
    "        return 1\n",
    "    else:\n",
    "        return fibonacci(num-1)+fibonacci(num-2)\n",
    "    \n",
    "print([fibonacci(x) for x in range(20)])\n",
    "            "
   ]
  },
  {
   "cell_type": "markdown",
   "id": "cfbaccb5-960e-4b06-95b4-3798f0177659",
   "metadata": {},
   "source": [
    "### 4. Assuming that we have some email addresses in the &quot;username@companyname.com&quot; format, please write program to print the user name of a given email address. Both user names and company names are composed of letters only."
   ]
  },
  {
   "cell_type": "code",
   "execution_count": 17,
   "id": "45bc5a58-4949-4607-ab07-89b118ed6349",
   "metadata": {},
   "outputs": [
    {
     "name": "stdin",
     "output_type": "stream",
     "text": [
      "Enter email address:  poojayadav.r.2424@gmail.com\n"
     ]
    },
    {
     "name": "stdout",
     "output_type": "stream",
     "text": [
      "Username of poojayadav.r.2424@gmail.com is poojayadav.r.2424\n"
     ]
    },
    {
     "name": "stdin",
     "output_type": "stream",
     "text": [
      "Enter email address:  support.query@ineuron.ai\n"
     ]
    },
    {
     "name": "stdout",
     "output_type": "stream",
     "text": [
      "Username of support.query@ineuron.ai is support.query\n"
     ]
    },
    {
     "name": "stdin",
     "output_type": "stream",
     "text": [
      "Enter email address:  lucknow.amv@exlservice.com\n"
     ]
    },
    {
     "name": "stdout",
     "output_type": "stream",
     "text": [
      "Username of lucknow.amv@exlservice.com is lucknow.amv\n"
     ]
    }
   ],
   "source": [
    "def findUsername():\n",
    "    string = input(\"Enter email address: \")\n",
    "    output = string.split('@')\n",
    "    print(f'Username of {string} is {output[0]}')\n",
    "    \n",
    "for i in range(3):\n",
    "    findUsername()"
   ]
  },
  {
   "cell_type": "markdown",
   "id": "193e6e17-ca6c-48e2-8b9d-19c4bd76638e",
   "metadata": {},
   "source": [
    "### 5. Define a class named Shape and its subclass Square. The Square class has an init function which takes a length as argument. Both classes have a area function which can print the area of the shape where Shape&#39;s area is 0 by default."
   ]
  },
  {
   "cell_type": "code",
   "execution_count": 21,
   "id": "c2efd8cf-9d68-49b1-a019-96cd8329d48b",
   "metadata": {},
   "outputs": [
    {
     "name": "stdout",
     "output_type": "stream",
     "text": [
      "2500\n"
     ]
    }
   ],
   "source": [
    "class Shape():\n",
    "    def area(self):\n",
    "        return 0\n",
    "    \n",
    "class square(Shape):\n",
    "    def __init__ (self, length):\n",
    "        self.length = length\n",
    "    def area(self):\n",
    "        return self.length * self.length\n",
    "        \n",
    "square = square(50)\n",
    "print(square.area())"
   ]
  },
  {
   "cell_type": "code",
   "execution_count": null,
   "id": "bdc88be4-4698-4f20-9c48-3dabfd1c1d37",
   "metadata": {},
   "outputs": [],
   "source": []
  }
 ],
 "metadata": {
  "kernelspec": {
   "display_name": "Python 3 (ipykernel)",
   "language": "python",
   "name": "python3"
  },
  "language_info": {
   "codemirror_mode": {
    "name": "ipython",
    "version": 3
   },
   "file_extension": ".py",
   "mimetype": "text/x-python",
   "name": "python",
   "nbconvert_exporter": "python",
   "pygments_lexer": "ipython3",
   "version": "3.10.6"
  }
 },
 "nbformat": 4,
 "nbformat_minor": 5
}
