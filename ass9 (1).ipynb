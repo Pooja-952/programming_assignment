{
 "cells": [
  {
   "cell_type": "markdown",
   "id": "91c3ef6b-a4c2-49c4-a568-6958f586b949",
   "metadata": {},
   "source": [
    "### 1. Write a Python program to check if the given number is a Disarium Number?"
   ]
  },
  {
   "cell_type": "code",
   "execution_count": 3,
   "id": "7073213f-8f9e-48cb-8ee4-57a3541da748",
   "metadata": {},
   "outputs": [
    {
     "name": "stdout",
     "output_type": "stream",
     "text": [
      "135 is a Disarium number.\n"
     ]
    }
   ],
   "source": [
    "def  isDisarium(num):\n",
    "    num_str = str(num)\n",
    "    length = len(num_str)\n",
    "    result = 0\n",
    "    \n",
    "    for i in range(length):\n",
    "        digit = int(num_str[i])\n",
    "        result += pow(digit, i + 1)\n",
    "        \n",
    "    if result ==  num:\n",
    "        return True\n",
    "    else:\n",
    "        return False\n",
    "\n",
    "num = 135\n",
    "isDisarium_num = isDisarium(num)\n",
    "\n",
    "# Print the result\n",
    "if isDisarium_num:\n",
    "    print(f\"{num} is a Disarium number.\")\n",
    "else:\n",
    "    print(f\"{num} is not a Disarium number.\")    "
   ]
  },
  {
   "cell_type": "markdown",
   "id": "29b728b6-15b4-4781-a957-4146c0b07c97",
   "metadata": {},
   "source": [
    "### 2. Write a Python program to print all disarium numbers between 1 to 100?"
   ]
  },
  {
   "cell_type": "code",
   "execution_count": 18,
   "id": "9e121386-cc5f-45bc-bed5-f5ad6d42ee7c",
   "metadata": {},
   "outputs": [
    {
     "name": "stdout",
     "output_type": "stream",
     "text": [
      "Disarium numbers between 1 and 100:\n",
      "1\n",
      "2\n",
      "3\n",
      "4\n",
      "5\n",
      "6\n",
      "7\n",
      "8\n",
      "9\n",
      "89\n"
     ]
    }
   ],
   "source": [
    "def isDisarium(number):\n",
    "    num_str = str(number)\n",
    "    length = len(num_str)\n",
    "    result = 0\n",
    "\n",
    "    for i in range(length):\n",
    "        digit = int(num_str[i])\n",
    "        result += pow(digit, i + 1)\n",
    "\n",
    "    return result == number\n",
    "\n",
    "\n",
    "print(\"Disarium numbers between 1 and 100:\")\n",
    "for num in range(1, 101):\n",
    "    if isDisarium(num):\n",
    "        print(num)\n"
   ]
  },
  {
   "cell_type": "markdown",
   "id": "3a9052e3-8f93-41dd-950c-e8fb3bb25e59",
   "metadata": {},
   "source": [
    "### 3. Write a Python program to check if the given number is Happy Number?"
   ]
  },
  {
   "cell_type": "code",
   "execution_count": 21,
   "id": "9cdcfc3b-76d5-4f89-9afb-70e3af2764db",
   "metadata": {},
   "outputs": [
    {
     "name": "stdout",
     "output_type": "stream",
     "text": [
      "19 is a Happy number.\n"
     ]
    }
   ],
   "source": [
    "def is_happy_number(number):\n",
    "    visited = set()\n",
    "    \n",
    "    while number != 1 and number not in visited:\n",
    "        visited.add(number)\n",
    "        num_str = str(number)\n",
    "        number = sum(int(digit) ** 2 for digit in num_str)\n",
    "        \n",
    "    return number == 1\n",
    "\n",
    "num = 19\n",
    "is_happy = is_happy_number(num)\n",
    "\n",
    "# Print the result\n",
    "if is_happy:\n",
    "    print(f\"{num} is a Happy number.\")\n",
    "else:\n",
    "    print(f\"{num} is not a Happy number.\")"
   ]
  },
  {
   "cell_type": "markdown",
   "id": "0659c1c9-a1f7-4fdb-b3df-cb4cfcac14e4",
   "metadata": {},
   "source": [
    "### 4. Write a Python program to print all happy numbers between 1 and 100?"
   ]
  },
  {
   "cell_type": "code",
   "execution_count": 23,
   "id": "dcd70622-7370-4cfc-b57c-46916fc6526d",
   "metadata": {},
   "outputs": [
    {
     "name": "stdout",
     "output_type": "stream",
     "text": [
      "Happy Number numbers between 1 and 100:\n",
      "1\n",
      "7\n",
      "10\n",
      "13\n",
      "19\n",
      "23\n",
      "28\n",
      "31\n",
      "32\n",
      "44\n",
      "49\n",
      "68\n",
      "70\n",
      "79\n",
      "82\n",
      "86\n",
      "91\n",
      "94\n",
      "97\n",
      "100\n"
     ]
    }
   ],
   "source": [
    "def is_happy_number(number):\n",
    "    visited = set()\n",
    "    \n",
    "    while number != 1 and number not in visited:\n",
    "        visited.add(number)\n",
    "        num_str = str(number)\n",
    "        number = sum(int(digit) ** 2 for digit in num_str)\n",
    "        \n",
    "    return number == 1\n",
    "\n",
    "print(\"Happy Number numbers between 1 and 100:\")\n",
    "for num in range(1, 101):\n",
    "    if is_happy_number(num):\n",
    "        print(num)\n"
   ]
  },
  {
   "cell_type": "markdown",
   "id": "ae31266d-8c17-4396-a024-e89861122dd5",
   "metadata": {},
   "source": [
    "### 5. Write a Python program to determine whether the given number is a Harshad Number?"
   ]
  },
  {
   "cell_type": "code",
   "execution_count": 24,
   "id": "f9f81c28-19c1-465a-8fd6-343607d3f791",
   "metadata": {},
   "outputs": [
    {
     "name": "stdout",
     "output_type": "stream",
     "text": [
      "18 is a Harshad number.\n"
     ]
    }
   ],
   "source": [
    "def is_harshad_number(number):\n",
    "    num_str = str(number)\n",
    "    digit_sum = sum(int(digit) for digit in num_str)\n",
    "    \n",
    "    return number % digit_sum == 0\n",
    "\n",
    "num = 18\n",
    "is_harshad = is_harshad_number(num)\n",
    "\n",
    "# Print the result\n",
    "if is_harshad:\n",
    "    print(f\"{num} is a Harshad number.\")\n",
    "else:\n",
    "    print(f\"{num} is not a Harshad number.\")"
   ]
  },
  {
   "cell_type": "markdown",
   "id": "05328eb0-8b54-453c-bf52-d5e37e9501de",
   "metadata": {},
   "source": [
    "### 6. Write a Python program to print all pronic numbers between 1 and 100?"
   ]
  },
  {
   "cell_type": "code",
   "execution_count": 28,
   "id": "9ebee64f-825c-4e14-8e13-9a0debea7cc4",
   "metadata": {},
   "outputs": [
    {
     "name": "stdout",
     "output_type": "stream",
     "text": [
      "Pronic numbers between 1 and 100 :\n",
      "[2, 6, 12, 20, 30, 42, 56, 72, 90]\n"
     ]
    }
   ],
   "source": [
    "def print_pronic_numbers(start, end):\n",
    "    pronic_numbers = []\n",
    "  \n",
    "    \n",
    "    for num in range(start, end + 1):\n",
    "        for i in range(1, int(num ** 0.5) + 1):\n",
    "            if i * (i + 1) == num:\n",
    "                pronic_numbers.append(num)\n",
    "                break\n",
    "\n",
    "    print(\"Pronic numbers between\", start, \"and\", end, \":\")\n",
    "    print(pronic_numbers)\n",
    "\n",
    "\n",
    "start = 1\n",
    "end = 100\n",
    "\n",
    "print_pronic_numbers(start, end)"
   ]
  },
  {
   "cell_type": "code",
   "execution_count": null,
   "id": "dd61b29f-4365-4308-bac2-dfcbaafe9c4e",
   "metadata": {},
   "outputs": [],
   "source": []
  }
 ],
 "metadata": {
  "kernelspec": {
   "display_name": "Python 3 (ipykernel)",
   "language": "python",
   "name": "python3"
  },
  "language_info": {
   "codemirror_mode": {
    "name": "ipython",
    "version": 3
   },
   "file_extension": ".py",
   "mimetype": "text/x-python",
   "name": "python",
   "nbconvert_exporter": "python",
   "pygments_lexer": "ipython3",
   "version": "3.10.6"
  }
 },
 "nbformat": 4,
 "nbformat_minor": 5
}
