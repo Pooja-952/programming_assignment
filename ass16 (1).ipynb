{
 "cells": [
  {
   "cell_type": "markdown",
   "id": "f9da4cad-6c19-4083-9ce6-3dbb0e85c394",
   "metadata": {},
   "source": [
    "### Question1. Write a function that stutters a word as if someone is struggling to read it. The first two letters are repeated twice with an ellipsis ... and space after each, and then the word is pronounced with a question mark ?."
   ]
  },
  {
   "cell_type": "code",
   "execution_count": 1,
   "id": "3dc1a1df-724a-4e2f-baa2-41c740906e02",
   "metadata": {},
   "outputs": [
    {
     "name": "stdin",
     "output_type": "stream",
     "text": [
      "Enter the Word : wonderful\n"
     ]
    },
    {
     "name": "stdout",
     "output_type": "stream",
     "text": [
      "wonderful ➞ wo... wo... wonderful?\n"
     ]
    },
    {
     "name": "stdin",
     "output_type": "stream",
     "text": [
      "Enter the Word : inevitable\n"
     ]
    },
    {
     "name": "stdout",
     "output_type": "stream",
     "text": [
      "inevitable ➞ in... in... inevitable?\n"
     ]
    },
    {
     "name": "stdin",
     "output_type": "stream",
     "text": [
      "Enter the Word : aesthetic\n"
     ]
    },
    {
     "name": "stdout",
     "output_type": "stream",
     "text": [
      "aesthetic ➞ ae... ae... aesthetic?\n"
     ]
    }
   ],
   "source": [
    "def stutterWord():\n",
    "    in_string = input('Enter the Word :')\n",
    "    out_string = in_string.replace(in_string[0:2],((in_string[0:2]+'... ')*2)+ in_string[0:2])  +'?'\n",
    "    print(f'{in_string} ➞ {out_string}')\n",
    "\n",
    "for i in range(3):\n",
    "    stutterWord()"
   ]
  },
  {
   "cell_type": "markdown",
   "id": "6a63df07-99ab-4537-8d88-d462ac75bbdc",
   "metadata": {},
   "source": [
    "### Question 2.Create a function that takes an angle in radians and returns the corresponding angle in degrees rounded to one decimal place."
   ]
  },
  {
   "cell_type": "code",
   "execution_count": 2,
   "id": "4ea32d56-1677-4dcc-a5f2-090001341fa6",
   "metadata": {},
   "outputs": [
    {
     "name": "stdin",
     "output_type": "stream",
     "text": [
      "Enter the angle in Radians:  2\n"
     ]
    },
    {
     "name": "stdout",
     "output_type": "stream",
     "text": [
      "2 radian(s) ➞ 114.6 degrees\n"
     ]
    },
    {
     "name": "stdin",
     "output_type": "stream",
     "text": [
      "Enter the angle in Radians:  10\n"
     ]
    },
    {
     "name": "stdout",
     "output_type": "stream",
     "text": [
      "10 radian(s) ➞ 573.0 degrees\n"
     ]
    },
    {
     "name": "stdin",
     "output_type": "stream",
     "text": [
      "Enter the angle in Radians:  11\n"
     ]
    },
    {
     "name": "stdout",
     "output_type": "stream",
     "text": [
      "11 radian(s) ➞ 630.3 degrees\n"
     ]
    }
   ],
   "source": [
    "import math\n",
    "def radianToDegree():\n",
    "    in_num = int(input('Enter the angle in Radians: '))\n",
    "    out_num = (180/math.pi)*in_num\n",
    "    print(f'{in_num} radian(s) ➞ {out_num:.1f} degrees')\n",
    "\n",
    "for x in range(3):\n",
    "    radianToDegree()"
   ]
  },
  {
   "cell_type": "markdown",
   "id": "8400c2b1-383e-41e2-ace9-ff43c1b5f4a0",
   "metadata": {},
   "source": [
    "### Question 3. In this challenge, establish if a given integer num is a Curzon number. If 1 plus 2 elevated to num is exactly divisible by 1 plus 2 multiplied by num, then num is a Curzon number. Given a non-negative integer num, implement a function that returns True if num is a Curzon number, or False otherwise."
   ]
  },
  {
   "cell_type": "code",
   "execution_count": 3,
   "id": "d4f0043e-ce40-48bf-9b34-2d77d749a618",
   "metadata": {},
   "outputs": [
    {
     "name": "stdin",
     "output_type": "stream",
     "text": [
      "Enter a number:  5\n"
     ]
    },
    {
     "name": "stdout",
     "output_type": "stream",
     "text": [
      "5 is a Curzon Number\n"
     ]
    },
    {
     "name": "stdin",
     "output_type": "stream",
     "text": [
      "Enter a number:  7\n"
     ]
    },
    {
     "name": "stdout",
     "output_type": "stream",
     "text": [
      "7 is Not a Curzon Number\n"
     ]
    },
    {
     "name": "stdin",
     "output_type": "stream",
     "text": [
      "Enter a number:  14\n"
     ]
    },
    {
     "name": "stdout",
     "output_type": "stream",
     "text": [
      "14 is a Curzon Number\n"
     ]
    },
    {
     "name": "stdin",
     "output_type": "stream",
     "text": [
      "Enter a number:  22\n"
     ]
    },
    {
     "name": "stdout",
     "output_type": "stream",
     "text": [
      "22 is Not a Curzon Number\n"
     ]
    }
   ],
   "source": [
    "def checkCurzon():\n",
    "    in_num = int(input(\"Enter a number: \"))\n",
    "    if (pow(2,in_num)+1)%((2*in_num)+1) == 0:\n",
    "        print(f'{in_num} is a Curzon Number')\n",
    "    else:\n",
    "        print(f'{in_num} is Not a Curzon Number')\n",
    "\n",
    "for x in range(4):\n",
    "    checkCurzon()"
   ]
  },
  {
   "cell_type": "markdown",
   "id": "c2912bd2-e56a-4b5f-b6b7-2c879f310694",
   "metadata": {},
   "source": [
    "### Question 4.Given the side length x find the area of a hexagon."
   ]
  },
  {
   "cell_type": "code",
   "execution_count": null,
   "id": "aba91654-2521-4a1a-9174-af164e828bdf",
   "metadata": {},
   "outputs": [
    {
     "name": "stdin",
     "output_type": "stream",
     "text": [
      "Enter the side length of a Hexagon:  2\n"
     ]
    },
    {
     "name": "stdout",
     "output_type": "stream",
     "text": [
      "Area for Hexagon of sidelength 2 ➞ 10.4\n"
     ]
    },
    {
     "name": "stdin",
     "output_type": "stream",
     "text": [
      "Enter the side length of a Hexagon:  1.5\n"
     ]
    }
   ],
   "source": [
    "import math\n",
    "def areaOfHexagon():\n",
    "    in_num = int(input('Enter the side length of a Hexagon: '))\n",
    "    out_num = ((3*math.sqrt(3))/2)*(pow(in_num,2))\n",
    "    print(f'Area for Hexagon of sidelength {in_num} ➞ {out_num:.1f}')\n",
    "    \n",
    "for x in range(3):\n",
    "    areaOfHexagon()"
   ]
  },
  {
   "cell_type": "markdown",
   "id": "b0249d51-d002-4982-9dc4-ea20d1e6ab0f",
   "metadata": {},
   "source": [
    "### Question 5. Create a function that returns a base-2 (binary) representation of a base-10 (decimal) string number. To convert is simple: ((2) means base-2 and (10) means base-10) 010101001(2) = 1 + 8 + 32 + 128. Going from right to left, the value of the most right bit is 1, now from that every bit to the left will be x2 the value, value of an 8 bit binary numbers are (256, 128, 64, 32, 16, 8, 4, 2, 1)."
   ]
  },
  {
   "cell_type": "code",
   "execution_count": 1,
   "id": "064e3a5f-e41a-4bb9-a982-b42e6ed1eb55",
   "metadata": {},
   "outputs": [
    {
     "name": "stdin",
     "output_type": "stream",
     "text": [
      "Enter a Number:  5\n"
     ]
    },
    {
     "name": "stdout",
     "output_type": "stream",
     "text": [
      "Binary of 5 ➞ 101\n"
     ]
    },
    {
     "name": "stdin",
     "output_type": "stream",
     "text": [
      "Enter a Number:  11\n"
     ]
    },
    {
     "name": "stdout",
     "output_type": "stream",
     "text": [
      "Binary of 11 ➞ 1011\n"
     ]
    },
    {
     "name": "stdin",
     "output_type": "stream",
     "text": [
      "Enter a Number:  100\n"
     ]
    },
    {
     "name": "stdout",
     "output_type": "stream",
     "text": [
      "Binary of 100 ➞ 1100100\n"
     ]
    }
   ],
   "source": [
    "def getBinary():\n",
    "    in_num = int(input(\"Enter a Number: \"))\n",
    "    out_num = bin(in_num).replace('0b','') \n",
    "    print(f'Binary of {in_num} ➞ {out_num}')\n",
    "\n",
    "for x in range(3):\n",
    "    getBinary()"
   ]
  },
  {
   "cell_type": "code",
   "execution_count": null,
   "id": "f1176f9c-86fc-4d77-a2c2-0718c53eba10",
   "metadata": {},
   "outputs": [],
   "source": []
  }
 ],
 "metadata": {
  "kernelspec": {
   "display_name": "Python 3 (ipykernel)",
   "language": "python",
   "name": "python3"
  },
  "language_info": {
   "codemirror_mode": {
    "name": "ipython",
    "version": 3
   },
   "file_extension": ".py",
   "mimetype": "text/x-python",
   "name": "python",
   "nbconvert_exporter": "python",
   "pygments_lexer": "ipython3",
   "version": "3.10.6"
  }
 },
 "nbformat": 4,
 "nbformat_minor": 5
}
