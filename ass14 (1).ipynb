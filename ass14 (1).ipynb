{
 "cells": [
  {
   "cell_type": "markdown",
   "id": "e065715a-7afa-4c8c-8580-cea9aad4efcb",
   "metadata": {},
   "source": [
    "### 1. Define a class with a generator which can iterate the numbers, which are divisible by 7, between a given range 0 and n."
   ]
  },
  {
   "cell_type": "code",
   "execution_count": 11,
   "id": "be18579b-6cfc-4318-a9ab-8c9ebfd99e2a",
   "metadata": {},
   "outputs": [],
   "source": [
    "class divisibleBySeven:\n",
    "    def __init__ (self, n):\n",
    "        self.n = n\n",
    "        \n",
    "    def get_numbers(self):\n",
    "        for i in range(self.n + 1):\n",
    "            if i % 7 == 0:\n",
    "                yield i\n",
    "                "
   ]
  },
  {
   "cell_type": "code",
   "execution_count": 13,
   "id": "eff87710-befd-4aba-b3c6-693d03429f68",
   "metadata": {},
   "outputs": [
    {
     "name": "stdout",
     "output_type": "stream",
     "text": [
      "0 7 14 21 28 35 42 49 56 63 70 77 84 91 98 105 112 119 126 133 140 147 154 161 168 175 182 189 196 203 210 217 224 231 238 245 252 259 266 273 280 287 294 301 308 315 322 329 336 343 350 "
     ]
    }
   ],
   "source": [
    "output = divisibleBySeven(350)\n",
    "for i in output.get_numbers():\n",
    "    print(i, end=' ')"
   ]
  },
  {
   "cell_type": "markdown",
   "id": "875205b0-0087-464d-81ef-58acd8b69b74",
   "metadata": {},
   "source": [
    "### 2. Write a program to compute the frequency of the words from the input. The output should output after sorting the key alphanumerically."
   ]
  },
  {
   "cell_type": "code",
   "execution_count": 17,
   "id": "904f3223-8092-4618-8942-99b625c05ab6",
   "metadata": {},
   "outputs": [
    {
     "name": "stdin",
     "output_type": "stream",
     "text": [
      "Enter a string:  This is a test sentence. This is only a test.\n"
     ]
    },
    {
     "name": "stdout",
     "output_type": "stream",
     "text": [
      "This:2 a:2 is:2 only:1 sentence.:1 test:1 test.:1 "
     ]
    }
   ],
   "source": [
    "def find_frequency():\n",
    "    sentence = input(\"Enter a string: \")\n",
    "    frequency = {}\n",
    "    \n",
    "    for char in sentence.split(\" \"):\n",
    "        if (frequency.get(char) == None):\n",
    "            frequency[char] = 1\n",
    "        else:\n",
    "            frequency[char] += 1\n",
    "    \n",
    "    for char in sorted(frequency):\n",
    "        print(f'{char}:{frequency[char]}',end = \" \")\n",
    "\n",
    "find_frequency()"
   ]
  },
  {
   "cell_type": "markdown",
   "id": "8496771f-a968-4617-86a3-d2d4ce0d037a",
   "metadata": {},
   "source": [
    "### 3. Define a class Person and its two child classes: Male and Female. All classes have a method &quot;getGender&quot; which can print &quot;Male&quot; for Male class and &quot;Female&quot; for Female class."
   ]
  },
  {
   "cell_type": "code",
   "execution_count": 18,
   "id": "cc00a7e2-6985-4680-a1b2-f30206ed8a55",
   "metadata": {},
   "outputs": [
    {
     "name": "stdout",
     "output_type": "stream",
     "text": [
      "Male\n",
      "Female\n"
     ]
    }
   ],
   "source": [
    "class Person():\n",
    "    def getGender():\n",
    "        pass\n",
    "    \n",
    "class Male(Person):\n",
    "    def getGender():\n",
    "        print(\"Male\")\n",
    "        \n",
    "class Female(Person):\n",
    "    def getGender():\n",
    "        print(\"Female\")\n",
    "\n",
    "Male.getGender()\n",
    "Female.getGender()"
   ]
  },
  {
   "cell_type": "markdown",
   "id": "ea01f14b-df0b-4199-8bc5-6bc1bfdf0fae",
   "metadata": {},
   "source": [
    "### 4. Please write a program to generate all sentences where subject is in [&quot;I&quot;, &quot;You&quot;] and verb is in [&quot;Play&quot;, &quot;Love&quot;] and the object is in [&quot;Hockey&quot;,&quot;Football&quot;]."
   ]
  },
  {
   "cell_type": "code",
   "execution_count": 19,
   "id": "0abfeac9-143e-47fa-977d-f0e62b0ff939",
   "metadata": {},
   "outputs": [
    {
     "name": "stdout",
     "output_type": "stream",
     "text": [
      "I, Play, Hockey\n",
      "I, Play, Football\n",
      "I, Love, Hockey\n",
      "I, Love, Football\n",
      "You, Play, Hockey\n",
      "You, Play, Football\n",
      "You, Love, Hockey\n",
      "You, Love, Football\n"
     ]
    }
   ],
   "source": [
    "def generateSentences():\n",
    "    subject = [\"I\", \"You\"]\n",
    "    verb = [\"Play\", \"Love\"]\n",
    "    object = [\"Hockey\", \"Football\"]\n",
    "    \n",
    "    for s in subject:\n",
    "        for v in verb:\n",
    "            for o in object:\n",
    "                print(f'{s}, {v}, {o}')\n",
    "                \n",
    "generateSentences()            "
   ]
  },
  {
   "cell_type": "markdown",
   "id": "1e0aba56-8e70-411c-8661-64b5f100ec38",
   "metadata": {},
   "source": [
    "### 5. Please write a program to compress and decompress the string &quot;hello world!hellob world!hello world!hello world!&quot;."
   ]
  },
  {
   "cell_type": "code",
   "execution_count": 20,
   "id": "607e6821-e335-45a2-a203-0191b9287a3e",
   "metadata": {},
   "outputs": [
    {
     "name": "stdout",
     "output_type": "stream",
     "text": [
      "hel2o world!hel2o world!hel2o world!hel2o world!\n",
      "hello world!hello world!hello world!hello world!\n"
     ]
    }
   ],
   "source": [
    "def compress(string):\n",
    "    output = string[0]\n",
    "    count = 1\n",
    "    for ele in range(len(string)-1):\n",
    "        if string[ele] == string[ele+1]:\n",
    "            count +=1\n",
    "        else:\n",
    "            if count > 1:\n",
    "                output += str(count)\n",
    "            output += string[ele+1]\n",
    "            count = 1\n",
    "    if count > 1:\n",
    "        output += str(count)            \n",
    "    print(output)\n",
    "\n",
    "\n",
    "def decompress(string):\n",
    "    output = ''\n",
    "    for ele in range(len(string)):\n",
    "        if string[ele].isdigit():\n",
    "            output += output[-1]*(int(string[ele])-1)\n",
    "        else:\n",
    "            output += string[ele]\n",
    "    print(output)\n",
    "    \n",
    "        \n",
    "compress(\"hello world!hello world!hello world!hello world!\")\n",
    "decompress(\"hel2o world!hel2o world!hel2o world!hel2o world!\")\n"
   ]
  },
  {
   "cell_type": "markdown",
   "id": "51966d67-2938-4644-9f80-47e9499b01b5",
   "metadata": {},
   "source": [
    "### 6. Please write a binary search function which searches an item in a sorted list. The function should return the index of element to be searched in the list."
   ]
  },
  {
   "cell_type": "code",
   "execution_count": 22,
   "id": "048074e0-0be3-4651-819c-16ff16cb0098",
   "metadata": {},
   "outputs": [],
   "source": [
    "def BinarySearchh(arr, target):\n",
    "    left = 0\n",
    "    right = len(arr) - 1\n",
    "    \n",
    "    while left <= right:\n",
    "        mid = (left + right) // 2\n",
    "        if arr[mid] == target:\n",
    "            return mid\n",
    "        elif arr[mid] < target:\n",
    "            left = mid + 1\n",
    "        else:\n",
    "            right = mid - 1\n",
    "     \n",
    "    return -1"
   ]
  },
  {
   "cell_type": "code",
   "execution_count": 24,
   "id": "aff4ab0a-d24f-4b2f-9896-f057d977c456",
   "metadata": {},
   "outputs": [
    {
     "name": "stdout",
     "output_type": "stream",
     "text": [
      "Element 9 found at index 4\n"
     ]
    }
   ],
   "source": [
    "sorted_list = [1, 3, 5, 7, 9, 11, 13, 15]\n",
    "target = 9\n",
    "\n",
    "index = BinarySearchh(sorted_list, target)\n",
    "if index != -1:\n",
    "    print(f\"Element {target} found at index {index}\")\n",
    "else:\n",
    "    print(f\"Element {target} not found in the list\")"
   ]
  },
  {
   "cell_type": "code",
   "execution_count": null,
   "id": "0c40dd18-faf9-4ae8-ba71-6053ad582075",
   "metadata": {},
   "outputs": [],
   "source": []
  }
 ],
 "metadata": {
  "kernelspec": {
   "display_name": "Python 3 (ipykernel)",
   "language": "python",
   "name": "python3"
  },
  "language_info": {
   "codemirror_mode": {
    "name": "ipython",
    "version": 3
   },
   "file_extension": ".py",
   "mimetype": "text/x-python",
   "name": "python",
   "nbconvert_exporter": "python",
   "pygments_lexer": "ipython3",
   "version": "3.10.6"
  }
 },
 "nbformat": 4,
 "nbformat_minor": 5
}
