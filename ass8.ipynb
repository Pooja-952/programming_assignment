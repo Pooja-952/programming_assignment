{
 "cells": [
  {
   "cell_type": "markdown",
   "id": "eeb718d6-e72d-48b0-9d14-cf8005687e19",
   "metadata": {},
   "source": [
    "### Q1. 1. Write a Python Program to Add Two Matrices?"
   ]
  },
  {
   "cell_type": "code",
   "execution_count": 2,
   "id": "5af4f2fd-fd14-4a49-b968-3a58e5be0d6b",
   "metadata": {},
   "outputs": [
    {
     "name": "stdout",
     "output_type": "stream",
     "text": [
      "inputs: [[1, 2, 3], [4, 5, 6], [7, 8, 9]], [[9, 8, 7], [6, 5, 4], [3, 2, 1]]\n",
      "Output: [[10, 10, 10], [10, 10, 10], [10, 10, 10]]\n",
      "inputs: [[2, 3, 5], [1, 1, 1], [2, 2, 2]], [[4, 3, 5], [1, 2, 3], [3, 2, 1]]\n",
      "Output: [[6, 6, 10], [2, 3, 4], [5, 4, 3]]\n"
     ]
    }
   ],
   "source": [
    "def addMatrices(a, b):\n",
    "    print(f'inputs: {a}, {b}')\n",
    "    if len(a) == len(b):\n",
    "        out_matrix = []\n",
    "        \n",
    "        for ele in range(len(a)):\n",
    "            if len(a[ele]) == len(b[ele]):\n",
    "                out_matrix.append([])\n",
    "                for sub_ele in range(len(a[ele])):\n",
    "                                     out_matrix[ele].append(a[ele][sub_ele]+b[ele][sub_ele])\n",
    "            else:\n",
    "                print('Both Matrices must contains same no of rows and columns') \n",
    "    else:\n",
    "        print('Both Matrices must contains same no of rows and columns')\n",
    "    print(f'Output: {out_matrix}')\n",
    "\n",
    "addMatrices([[1,2,3],[4,5,6],[7,8,9]],[[9,8,7],[6,5,4],[3,2,1]])\n",
    "addMatrices([[2,3,5],[1,1,1],[2,2,2]],[[4,3,5],[1,2,3],[3,2,1]])"
   ]
  },
  {
   "cell_type": "markdown",
   "id": "a1cb35de-3d26-48b7-933b-e7ec471baa32",
   "metadata": {},
   "source": [
    "### Q2. 2. Write a Python Program to Multiply Two Matrices?"
   ]
  },
  {
   "cell_type": "code",
   "execution_count": 6,
   "id": "b59260c2-4d44-47b5-9743-556dc18670f7",
   "metadata": {},
   "outputs": [
    {
     "name": "stdout",
     "output_type": "stream",
     "text": [
      "[[14, 32, 50], [32, 77, 122], [50, 122, 194]]\n"
     ]
    }
   ],
   "source": [
    "a = [[1,2,3],[4,5,6],[7,8,9]]\n",
    "b = [[1,4,7],[2,5,8],[3,6,9]]\n",
    "\n",
    "def multiplyMatrices(a, b):\n",
    "    output = []\n",
    "    if len(a[0]) == len(b):\n",
    "        for ele in range(len(a[0])):\n",
    "                         output.append([0 for ele in range(len(b[0]))])\n",
    "        for i in range(len(a)):\n",
    "            for j in range(len(b[0])):\n",
    "                for k in range(len(b)):\n",
    "                    output[i][j] += a[i][k]*b[k][j]\n",
    "        print(output)     \n",
    "    else:\n",
    "        print('Matrix Multiplication is Not Possible')\n",
    "        \n",
    "multiplyMatrices(a,b)"
   ]
  },
  {
   "cell_type": "markdown",
   "id": "abc88ff5-1d13-441b-a3d9-deb42f13c6b7",
   "metadata": {},
   "source": [
    "### Q3. 3. Write a Python Program to Transpose a Matrix?"
   ]
  },
  {
   "cell_type": "code",
   "execution_count": 10,
   "id": "fecd6757-880a-484a-aa8c-9b04bb274377",
   "metadata": {},
   "outputs": [
    {
     "name": "stdout",
     "output_type": "stream",
     "text": [
      "Original Matrix:\n",
      "[1, 2, 3]\n",
      "[4, 5, 6]\n",
      "[7, 8, 9]\n",
      "\n",
      "Transposed Matrix:\n",
      "[1, 4, 7]\n",
      "[2, 5, 8]\n",
      "[3, 6, 9]\n"
     ]
    }
   ],
   "source": [
    "def matrixTranspose(matrix):\n",
    "    rows = len(matrix)\n",
    "    col = len(matrix[0])\n",
    "    \n",
    "    matrixTranspose = [[0 for ele in range(rows)] for ele in range(col)]\n",
    "    \n",
    "    for i in range(rows):\n",
    "        for j in range(col):\n",
    "            matrixTranspose[j][i] = matrix[i][j]\n",
    "    \n",
    "    return matrixTranspose\n",
    "\n",
    "matrix = [\n",
    "    [1, 2, 3],\n",
    "    [4, 5, 6],\n",
    "    [7, 8, 9]\n",
    "]\n",
    "\n",
    "transposed = matrixTranspose(matrix)\n",
    "\n",
    "print(\"Original Matrix:\")\n",
    "for row in matrix:\n",
    "    print(row)\n",
    "\n",
    "print(\"\\nTransposed Matrix:\")\n",
    "for row in transposed:\n",
    "    print(row)"
   ]
  },
  {
   "cell_type": "markdown",
   "id": "53ba87ef-b33e-4ff4-857c-aa281527c649",
   "metadata": {},
   "source": [
    "### 4. Write a Python Program to Sort Words in Alphabetic Order?"
   ]
  },
  {
   "cell_type": "code",
   "execution_count": 13,
   "id": "c24dc5fb-9470-474c-8093-48bfee30e4b1",
   "metadata": {},
   "outputs": [
    {
     "name": "stdin",
     "output_type": "stream",
     "text": [
      "Enter a string:  miles to go before I sleep\n"
     ]
    },
    {
     "name": "stdout",
     "output_type": "stream",
     "text": [
      "I before go miles sleep to\n"
     ]
    }
   ],
   "source": [
    "def sortedString():\n",
    "    string = input(\"Enter a string: \")\n",
    "    sorted_list = sorted(string.split(' '))\n",
    "    print(' '.join(sorted_list))\n",
    "    \n",
    "sortedString()    "
   ]
  },
  {
   "cell_type": "markdown",
   "id": "e6b8946d-e998-4d22-8b3a-03203d1afbf7",
   "metadata": {},
   "source": [
    "### 5. Write a Python Program to Remove Punctuation From a String?"
   ]
  },
  {
   "cell_type": "code",
   "execution_count": 18,
   "id": "7c6dd3d2-e26b-4378-a75f-5101ea7823f1",
   "metadata": {},
   "outputs": [
    {
     "name": "stdout",
     "output_type": "stream",
     "text": [
      "Text without punctuation: \n",
      "Hello World How are you today \n"
     ]
    }
   ],
   "source": [
    "import string\n",
    "\n",
    "def removePunctuation(s):\n",
    "    translator = str.maketrans(\"\", \"\", string.punctuation)\n",
    "    s_without_punctuation = s.translate(translator)\n",
    "    return s_without_punctuation\n",
    "\n",
    "s = \"Hello World! How are you today ?\"\n",
    "\n",
    "s_without_punctuation = removePunctuation(s)\n",
    "\n",
    "print(\"Text without punctuation: \")\n",
    "print(s_without_punctuation)\n",
    "    "
   ]
  },
  {
   "cell_type": "code",
   "execution_count": null,
   "id": "39041aa1-eb68-477c-87d3-b6c5f905a2b3",
   "metadata": {},
   "outputs": [],
   "source": []
  }
 ],
 "metadata": {
  "kernelspec": {
   "display_name": "Python 3 (ipykernel)",
   "language": "python",
   "name": "python3"
  },
  "language_info": {
   "codemirror_mode": {
    "name": "ipython",
    "version": 3
   },
   "file_extension": ".py",
   "mimetype": "text/x-python",
   "name": "python",
   "nbconvert_exporter": "python",
   "pygments_lexer": "ipython3",
   "version": "3.10.6"
  }
 },
 "nbformat": 4,
 "nbformat_minor": 5
}
