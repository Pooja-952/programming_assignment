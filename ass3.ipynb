{
 "cells": [
  {
   "cell_type": "markdown",
   "id": "8c3bacd3-e609-44bd-b955-c130c823ba75",
   "metadata": {},
   "source": [
    "### 1.Write a Python program to check if a Number is Positive, Negative or Zero ?"
   ]
  },
  {
   "cell_type": "code",
   "execution_count": 16,
   "id": "e8a21317-c21e-48ae-bc7d-358c1bdf8e95",
   "metadata": {},
   "outputs": [
    {
     "name": "stdin",
     "output_type": "stream",
     "text": [
      "Enter a number:  -30\n"
     ]
    },
    {
     "name": "stdout",
     "output_type": "stream",
     "text": [
      "-30 is a negative number\n"
     ]
    }
   ],
   "source": [
    "def checkNumber(num):\n",
    "    \n",
    "    if num > 0:\n",
    "        print('{} is a positive number'.format(num))\n",
    "    elif num < 0:\n",
    "        print('{} is a negative number'.format(num))\n",
    "    else:\n",
    "        print('Number is zero')\n",
    "        \n",
    "num= int(input(\"Enter a number: \"))   \n",
    "checkNumber(num)    "
   ]
  },
  {
   "cell_type": "code",
   "execution_count": null,
   "id": "38dfb754-3baa-4edf-8e90-4b9d88f2ec34",
   "metadata": {},
   "outputs": [],
   "source": []
  }
 ],
 "metadata": {
  "kernelspec": {
   "display_name": "Python 3 (ipykernel)",
   "language": "python",
   "name": "python3"
  },
  "language_info": {
   "codemirror_mode": {
    "name": "ipython",
    "version": 3
   },
   "file_extension": ".py",
   "mimetype": "text/x-python",
   "name": "python",
   "nbconvert_exporter": "python",
   "pygments_lexer": "ipython3",
   "version": "3.10.6"
  }
 },
 "nbformat": 4,
 "nbformat_minor": 5
}
