{
 "cells": [
  {
   "cell_type": "markdown",
   "id": "8db8a172-cd84-43b8-a248-e0a3e44732c1",
   "metadata": {},
   "source": [
    "### 1. Create a function that takes a string and returns a string in which each character is repeated once."
   ]
  },
  {
   "cell_type": "code",
   "execution_count": 1,
   "id": "0ec7527b-cd48-41ca-a6c2-3dff332aedcb",
   "metadata": {},
   "outputs": [],
   "source": [
    "def repeatCharacters(string):\n",
    "    output = ''\n",
    "    \n",
    "    for char in string:\n",
    "        output += char * 2\n",
    "    return output"
   ]
  },
  {
   "cell_type": "code",
   "execution_count": 2,
   "id": "73de7a91-3996-4077-86eb-ae41da2c8851",
   "metadata": {},
   "outputs": [
    {
     "name": "stdout",
     "output_type": "stream",
     "text": [
      "➞ SSttrriinngg\n",
      "➞ HHeelllloo  WWoorrlldd!!\n",
      "➞ 11223344!!__\n"
     ]
    }
   ],
   "source": [
    "print(f'➞ {repeatCharacters(\"String\")}')\n",
    "print(f'➞ {repeatCharacters(\"Hello World!\")}')\n",
    "print(f'➞ {repeatCharacters(\"1234!_\")}')"
   ]
  },
  {
   "cell_type": "markdown",
   "id": "f5a5d55e-8aeb-4413-a0e0-038dfef891c8",
   "metadata": {},
   "source": [
    "### 2. Create a function that reverses a boolean value and returns the string &quot;boolean expected&quot; if another variable type is given."
   ]
  },
  {
   "cell_type": "code",
   "execution_count": 3,
   "id": "52daf5f8-7c52-46eb-b0c5-d1ff79448aa0",
   "metadata": {},
   "outputs": [
    {
     "name": "stdout",
     "output_type": "stream",
     "text": [
      "reverse(True) ➞ False\n",
      "reverse(False) ➞ True\n",
      "reverse(0) ➞ Boolean Expected\n",
      "reverse(None) ➞ Boolean Expected\n"
     ]
    }
   ],
   "source": [
    "def reverse(in_bool):\n",
    "    if type(in_bool) == bool:\n",
    "        return not in_bool\n",
    "    else:\n",
    "        return \"Boolean Expected\"\n",
    "\n",
    "print(f'reverse(True) ➞ {reverse(True)}')\n",
    "print(f'reverse(False) ➞ {reverse(False)}')\n",
    "print(f'reverse(0) ➞ {reverse(0)}')\n",
    "print(f'reverse(None) ➞ {reverse(None)}')"
   ]
  },
  {
   "cell_type": "markdown",
   "id": "f15cb941-9446-4fd2-a5ce-f2f92392c406",
   "metadata": {},
   "source": [
    "### 3. Create a function that returns the thickness (in meters) of a piece of paper after folding it n number of times. The paper starts off with a thickness of 0.5mm."
   ]
  },
  {
   "cell_type": "code",
   "execution_count": 4,
   "id": "d64ee1cc-503c-4e48-84cf-b810eeb48074",
   "metadata": {},
   "outputs": [
    {
     "name": "stdout",
     "output_type": "stream",
     "text": [
      "Output ➞ 0.001m\n",
      "Output ➞ 0.008m\n",
      "Output ➞ 1048.576m\n"
     ]
    }
   ],
   "source": [
    "def num_layers(in_num):\n",
    "    out_num = 0.5\n",
    "    for ele in range(in_num):\n",
    "        out_num *= 2\n",
    "    print(f'Output ➞ {out_num/1000}m')\n",
    "    \n",
    "num_layers(1)\n",
    "num_layers(4)\n",
    "num_layers(21)"
   ]
  },
  {
   "cell_type": "markdown",
   "id": "924efa77-e962-44f9-848a-269fd40fca8c",
   "metadata": {},
   "source": [
    "### 4. Create a function that takes a single string as argument and returns an ordered list containing the indices of all capital letters in the string."
   ]
  },
  {
   "cell_type": "code",
   "execution_count": 6,
   "id": "7e7eb6fe-1be8-46c2-aaee-b2545d2092f0",
   "metadata": {},
   "outputs": [
    {
     "name": "stdout",
     "output_type": "stream",
     "text": [
      "eDaBiT - [1, 3, 5]\n",
      "eQuINoX - [1, 3, 4, 6]\n",
      "determine - []\n",
      "STRIKE - [0, 1, 2, 3, 4, 5]\n",
      "sUn - [1]\n"
     ]
    }
   ],
   "source": [
    "def index_of_caps(in_string):\n",
    "    out_string = []\n",
    "    for ele in in_string:\n",
    "        if ele.isupper():\n",
    "            out_string.append(in_string.index(ele))\n",
    "    print(f'{in_string} - {out_string}')\n",
    "\n",
    "index_of_caps(\"eDaBiT\")\n",
    "index_of_caps(\"eQuINoX\")\n",
    "index_of_caps(\"determine\")\n",
    "index_of_caps(\"STRIKE\")\n",
    "index_of_caps(\"sUn\")"
   ]
  },
  {
   "cell_type": "markdown",
   "id": "ce65411f-374c-42ee-9ef9-620cea8235e7",
   "metadata": {},
   "source": [
    "### 5. Using list comprehensions, create a function that finds all even numbers from 1 to the given number."
   ]
  },
  {
   "cell_type": "code",
   "execution_count": 27,
   "id": "e0a5df35-38a5-4802-a041-ad086badf7c5",
   "metadata": {},
   "outputs": [
    {
     "name": "stdout",
     "output_type": "stream",
     "text": [
      "Output ➞ [2, 4, 6, 8]\n",
      "Output ➞ [2, 4]\n",
      "Output ➞ [2]\n"
     ]
    }
   ],
   "source": [
    "def find_even_nums(in_num):\n",
    "    out_list = [i for i in range(1,in_num+1) if i%2 == 0]\n",
    "    print(f'Output ➞ {out_list}')\n",
    "    \n",
    "find_even_nums(8)\n",
    "find_even_nums(4)\n",
    "find_even_nums(2)"
   ]
  },
  {
   "cell_type": "code",
   "execution_count": null,
   "id": "85bf2d66-d62d-4239-b272-bb6b9ebe7555",
   "metadata": {},
   "outputs": [],
   "source": []
  }
 ],
 "metadata": {
  "kernelspec": {
   "display_name": "Python 3 (ipykernel)",
   "language": "python",
   "name": "python3"
  },
  "language_info": {
   "codemirror_mode": {
    "name": "ipython",
    "version": 3
   },
   "file_extension": ".py",
   "mimetype": "text/x-python",
   "name": "python",
   "nbconvert_exporter": "python",
   "pygments_lexer": "ipython3",
   "version": "3.10.6"
  }
 },
 "nbformat": 4,
 "nbformat_minor": 5
}
