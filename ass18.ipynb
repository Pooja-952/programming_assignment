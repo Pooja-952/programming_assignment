{
 "cells": [
  {
   "cell_type": "markdown",
   "id": "7aedf689-c51c-4124-bef2-a4654df5fa1a",
   "metadata": {},
   "source": [
    "### 1. Create a function that takes a list of non-negative integers and strings and return a new list without the strings."
   ]
  },
  {
   "cell_type": "code",
   "execution_count": 4,
   "id": "d18f3556-a3be-430e-9a21-076ec3df41f4",
   "metadata": {},
   "outputs": [],
   "source": [
    "def newList(list):\n",
    "    string = []\n",
    "    for char in list:\n",
    "        if type(char) == int and char >= 0:\n",
    "            string.append(char)\n",
    "    return string    "
   ]
  },
  {
   "cell_type": "code",
   "execution_count": 5,
   "id": "a64e00c3-73af-426d-ab7e-7cdb3c418a93",
   "metadata": {},
   "outputs": [
    {
     "name": "stdout",
     "output_type": "stream",
     "text": [
      "➞ [1, 2]\n",
      "➞ [1, 0, 15]\n",
      "➞ [1, 2, 123]\n"
     ]
    }
   ],
   "source": [
    "print(f'➞ {newList([1, 2, \"a\", \"b\"])}')\n",
    "print(f'➞ {newList([1, \"a\", \"b\", 0, 15])}')\n",
    "print(f'➞ {newList([1, 2, \"aasf\", \"1\", \"123\", 123])}')"
   ]
  },
  {
   "cell_type": "markdown",
   "id": "a759badc-47a9-4858-8d91-cac907554544",
   "metadata": {},
   "source": [
    "### 2. The &quot;Reverser&quot; takes a string as input and returns that string in reverse order, with the opposite case."
   ]
  },
  {
   "cell_type": "code",
   "execution_count": 8,
   "id": "a6451acf-f941-4fd9-9e27-2533a5bd9f54",
   "metadata": {},
   "outputs": [
    {
     "name": "stdout",
     "output_type": "stream",
     "text": [
      "Hello World - DLROw OLLEh\n",
      "ReVeRsE - eSrEvEr\n",
      "Pooja - AJOOp\n"
     ]
    }
   ],
   "source": [
    "def reverse(string):\n",
    "    print(f'{string} - {string[::-1].swapcase()}')\n",
    "    \n",
    "reverse('Hello World')\n",
    "reverse(\"ReVeRsE\")\n",
    "reverse(\"Pooja\")    "
   ]
  },
  {
   "cell_type": "markdown",
   "id": "561dcfa6-4377-4c0b-b067-40ed2157656c",
   "metadata": {},
   "source": [
    "#### 3. You can assign variables from lists like this:\n",
    "\n",
    "lst = [1, 2, 3, 4, 5, 6]\n",
    "\n",
    "first = lst[0]\n",
    "\n",
    "middle = lst[1:-1]\n",
    "\n",
    "last = lst[-1]\n",
    "\n",
    "print(first) ➞ outputs 1\n",
    "\n",
    "print(middle) ➞ outputs [2, 3, 4, 5]\n",
    "\n",
    "print(last) ➞ outputs 6\n",
    "\n",
    "With Python 3, you can assign variables from lists in a much more succinct way. Create variables first, middle and last from the given list using destructuring assignment (check the Resources tab for some examples), where:\n",
    "\n",
    "    first ➞ 1\n",
    "\n",
    "    middle ➞ [2, 3, 4, 5]\n",
    "\n",
    "    last ➞ 6\n",
    "\n",
    "Your task is to unpack the list writeyourcodehere into three variables, being first, middle, and last, with middle being everything in between the first and last element. Then print all three variables."
   ]
  },
  {
   "cell_type": "code",
   "execution_count": 9,
   "id": "25d0b19e-2489-4f9e-b724-18141f2e56ad",
   "metadata": {},
   "outputs": [
    {
     "name": "stdout",
     "output_type": "stream",
     "text": [
      "first ➞ 1\n",
      "middle ➞ [2, 3, 4, 5]\n",
      "last ➞ 6\n"
     ]
    }
   ],
   "source": [
    "first, *middle, last = [1,2,3,4,5,6]\n",
    "print(f'first ➞ {first}')\n",
    "print(f'middle ➞ {middle}')\n",
    "print(f'last ➞ {last}')"
   ]
  },
  {
   "cell_type": "markdown",
   "id": "230740cd-dbc8-4f46-8645-224395dad660",
   "metadata": {},
   "source": [
    "### 4. Write a function that calculates the factorial of a number recursively."
   ]
  },
  {
   "cell_type": "code",
   "execution_count": 12,
   "id": "8a7447e4-d306-4084-900c-aff9fb3eea68",
   "metadata": {},
   "outputs": [
    {
     "name": "stdout",
     "output_type": "stream",
     "text": [
      "factorial(5) - 120\n",
      "factorial(3) - 6\n",
      "factorial(1) - 1\n",
      "factorial(0) - 1\n"
     ]
    }
   ],
   "source": [
    "def factorial(num):\n",
    "    if num == 0:\n",
    "        return 1\n",
    "    return num * factorial(num - 1)\n",
    "\n",
    "print(f'factorial(5) - {factorial(5)}')\n",
    "print(f'factorial(3) - {factorial(3)}')\n",
    "print(f'factorial(1) - {factorial(1)}')\n",
    "print(f'factorial(0) - {factorial(0)}')"
   ]
  },
  {
   "cell_type": "markdown",
   "id": "159fe12e-6d58-46c2-b9d1-caf46cac8082",
   "metadata": {},
   "source": [
    "### 5. Write a function that moves all elements of one type to the end of the list."
   ]
  },
  {
   "cell_type": "code",
   "execution_count": 15,
   "id": "b8c3ce3e-888b-41b5-a2bc-e8207bc41dba",
   "metadata": {},
   "outputs": [],
   "source": [
    "def move_to_end(list, num):\n",
    "    first_end = []\n",
    "    second_end = []\n",
    "    \n",
    "    for i in list:\n",
    "        if i == num:\n",
    "            second_end.append(i)\n",
    "        else:\n",
    "            first_end.append(i)\n",
    "    first_end.extend(second_end)\n",
    "    return first_end"
   ]
  },
  {
   "cell_type": "code",
   "execution_count": 16,
   "id": "ece1ef92-3409-4429-9014-ec3ceffa6d29",
   "metadata": {},
   "outputs": [
    {
     "name": "stdout",
     "output_type": "stream",
     "text": [
      "move_to_end([1, 3, 2, 4, 4, 1], 1) ➞ [3, 2, 4, 4, 1, 1]\n",
      "move_to_end([7, 8, 9, 1, 2, 3, 4], 9) ➞ [7, 8, 1, 2, 3, 4, 9]\n",
      "move_to_end([\"a\", \"a\", \"a\", \"b\"], \"a\") ➞ ['b', 'a', 'a', 'a']\n"
     ]
    }
   ],
   "source": [
    "print(f'move_to_end([1, 3, 2, 4, 4, 1], 1) ➞ {move_to_end([1, 3, 2, 4, 4, 1], 1)}')\n",
    "print(f'move_to_end([7, 8, 9, 1, 2, 3, 4], 9) ➞ {move_to_end([7, 8, 9, 1, 2, 3, 4], 9)}')\n",
    "print(f'move_to_end([\"a\", \"a\", \"a\", \"b\"], \"a\") ➞ {move_to_end([\"a\", \"a\", \"a\", \"b\"], \"a\")}')"
   ]
  },
  {
   "cell_type": "code",
   "execution_count": null,
   "id": "68d3197b-3cc4-49b3-96fc-e5569b0e1185",
   "metadata": {},
   "outputs": [],
   "source": []
  }
 ],
 "metadata": {
  "kernelspec": {
   "display_name": "Python 3 (ipykernel)",
   "language": "python",
   "name": "python3"
  },
  "language_info": {
   "codemirror_mode": {
    "name": "ipython",
    "version": 3
   },
   "file_extension": ".py",
   "mimetype": "text/x-python",
   "name": "python",
   "nbconvert_exporter": "python",
   "pygments_lexer": "ipython3",
   "version": "3.10.6"
  }
 },
 "nbformat": 4,
 "nbformat_minor": 5
}
